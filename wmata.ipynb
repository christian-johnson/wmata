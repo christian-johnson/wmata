{
 "cells": [
  {
   "cell_type": "code",
   "execution_count": 8,
   "id": "8165b65a-d761-4795-9cf3-5f5dcd2fab05",
   "metadata": {},
   "outputs": [],
   "source": [
    "import numpy as np\n",
    "import pandas as pd\n",
    "import matplotlib.pyplot as plt\n",
    "\n",
    "import requests\n",
    "from bs4 import BeautifulSoup\n",
    "\n",
    "from tqdm import trange\n",
    "\n",
    "import time\n",
    "import calendar\n",
    "from datetime import datetime, date\n",
    "\n",
    "from tqdm import tqdm"
   ]
  },
  {
   "cell_type": "code",
   "execution_count": 627,
   "id": "5cd97a22-66ea-4a42-81f5-9764a479fa64",
   "metadata": {},
   "outputs": [],
   "source": [
    "class Scraper():\n",
    "\n",
    "    def __init__(self, url = 'https://www.wmata.com/service/daily-report/daily-service-report.cfm?id='):\n",
    "        self.url = url\n",
    "\n",
    "    def load_page(self, i):\n",
    "        page = requests.get(self.url + str(i), verify=False)\n",
    "        soup = BeautifulSoup(page.content, 'html.parser')\n",
    "        return page, soup\n",
    "\n",
    "    def get_incidents(self, i):\n",
    "        df = pd.DataFrame(columns = ['date','text'])\n",
    "        page, soup = self.load_page(i)\n",
    "        j = 0\n",
    "        for entry in soup.find(class_ = 'cs_control CS_Element_Custom').decode_contents().split('<p>'):\n",
    "            if '<br/>' in entry:\n",
    "                for element in [item for sublist in [e.split('\\\\n') for e in entry.replace('\\t', ' ').split('<br/>')] for item in sublist]:\n",
    "                    try:\n",
    "                        if ':' in element and np.logical_or('a.m.' in element[:20], 'p.m' in element[:20]):\n",
    "                            event_date = pd.to_datetime(str(date) + ' ' + ' '.join(element.replace('\\\\n','').replace('\\\\r','').split(' ')[:2]))\n",
    "                            event_text =  ' '.join(element.strip('\\n').split(' ')[2:])\n",
    "                            df.loc[j] = [event_date, event_text]\n",
    "                            j += 1\n",
    "                        if 'day,'  in element and '<h3>' in element:\n",
    "                            date = pd.to_datetime(BeautifulSoup(element, 'html.parser').find_all('h3')[0].contents[0].split('Daily Service Report for ')[1])\n",
    "                    except:\n",
    "                        print('Error. Details:')\n",
    "                        print('i = ' + str(i))\n",
    "                        print('Problematic text: ' + element)\n",
    "                        pass\n",
    "\n",
    "            else: \n",
    "                if ':' in entry and np.logical_or('a.m.' in entry[:20], 'p.m' in entry[:20]):\n",
    "                    event_date = pd.to_datetime(str(date) + ' ' + ' '.join(entry.replace('\\\\n','').replace('\\\\r','').replace('\\t', ' ').replace('\\n', '').split(' ')[:2]))\n",
    "                    event_text =  ' '.join(entry.strip('\\\\n').split(' ')[2:])\n",
    "                    df.loc[j] = [event_date, event_text]\n",
    "                    j += 1\n",
    "                if 'day,'  in entry and '<h3>' in entry:\n",
    "                    date = pd.to_datetime(BeautifulSoup(entry, 'html.parser').find_all('h3')[0].contents[0].split('Daily Service Report for ')[1])\n",
    "        return df"
   ]
  },
  {
   "cell_type": "code",
   "execution_count": 628,
   "id": "34270747-f2b9-4ca6-8c17-f22ef9b4a1ea",
   "metadata": {},
   "outputs": [],
   "source": [
    "scraper = Scraper()"
   ]
  },
  {
   "cell_type": "code",
   "execution_count": 629,
   "id": "88639a4c-7f52-4194-92ac-d32ed2613a6c",
   "metadata": {},
   "outputs": [
    {
     "data": {
      "text/html": [
       "<div>\n",
       "<style scoped>\n",
       "    .dataframe tbody tr th:only-of-type {\n",
       "        vertical-align: middle;\n",
       "    }\n",
       "\n",
       "    .dataframe tbody tr th {\n",
       "        vertical-align: top;\n",
       "    }\n",
       "\n",
       "    .dataframe thead th {\n",
       "        text-align: right;\n",
       "    }\n",
       "</style>\n",
       "<table border=\"1\" class=\"dataframe\">\n",
       "  <thead>\n",
       "    <tr style=\"text-align: right;\">\n",
       "      <th></th>\n",
       "      <th>date</th>\n",
       "      <th>text</th>\n",
       "    </tr>\n",
       "  </thead>\n",
       "  <tbody>\n",
       "    <tr>\n",
       "      <th>0</th>\n",
       "      <td>2017-12-30 18:46:00</td>\n",
       "      <td>A Shady Grove-bound Red Line train at Medical\\...</td>\n",
       "    </tr>\n",
       "    <tr>\n",
       "      <th>1</th>\n",
       "      <td>2017-12-30 21:00:00</td>\n",
       "      <td>A New Carrollton-bound Orange Line train at\\nV...</td>\n",
       "    </tr>\n",
       "  </tbody>\n",
       "</table>\n",
       "</div>"
      ],
      "text/plain": [
       "                 date                                               text\n",
       "0 2017-12-30 18:46:00  A Shady Grove-bound Red Line train at Medical\\...\n",
       "1 2017-12-30 21:00:00  A New Carrollton-bound Orange Line train at\\nV..."
      ]
     },
     "execution_count": 629,
     "metadata": {},
     "output_type": "execute_result"
    }
   ],
   "source": [
    "scraper.get_incidents(i = i)"
   ]
  },
  {
   "cell_type": "code",
   "execution_count": 385,
   "id": "9eda028d-60af-40fd-a6b8-91085c6cd08a",
   "metadata": {},
   "outputs": [],
   "source": [
    "import urllib3\n",
    "urllib3.disable_warnings()\n"
   ]
  },
  {
   "cell_type": "code",
   "execution_count": 622,
   "id": "951ddf9c-f98f-45e7-9114-7ba4368644ce",
   "metadata": {
    "tags": []
   },
   "outputs": [],
   "source": [
    "df_tmp = pd.DataFrame(columns = ['date','text'])\n",
    "page, soup = scraper.load_page(i)\n",
    "j = 0\n",
    "for entry in soup.find(class_ = 'cs_control CS_Element_Custom').decode_contents().split('<p>'):\n",
    "    if '<br/>' in entry:\n",
    "        for element in [item for sublist in [e.split('\\\\n') for e in entry.replace('\\t', ' ').split('<br/>')] for item in sublist]:\n",
    "            try:\n",
    "                if ':' in element and np.logical_or('a.m.' in element[:20], 'p.m' in element[:20]):\n",
    "                    event_date = pd.to_datetime(str(date) + ' ' + ' '.join(element.replace('\\\\n','').replace('\\\\r','').split(' ')[:2]))\n",
    "                    event_text =  ' '.join(element.strip('\\n').split(' ')[2:])\n",
    "                    df_tmp.loc[j] = [event_date, event_text]\n",
    "                    j += 1\n",
    "                if 'day,'  in element and '<h3>' in element:\n",
    "                    date = pd.to_datetime(BeautifulSoup(element, 'html.parser').find_all('h3')[0].contents[0].split('Daily Service Report for ')[1])\n",
    "            except:\n",
    "                print('Error. Details:')\n",
    "                print('i = ' + str(i))\n",
    "                print('Problematic text: ' + element)\n",
    "                pass\n",
    "\n",
    "    else: \n",
    "        if ':' in entry and np.logical_or('a.m.' in entry[:20], 'p.m' in entry[:20]):\n",
    "            event_date = pd.to_datetime(str(date) + ' ' + ' '.join(entry.replace('\\\\n','').replace('\\\\r','').replace('\\t', ' ').replace('\\n', '').split(' ')[:2]))\n",
    "            event_text =  ' '.join(entry.strip('\\\\n').split(' ')[2:])\n",
    "            df_tmp.loc[j] = [event_date, event_text]\n",
    "            j += 1\n",
    "        if 'day,'  in entry and '<h3>' in entry:\n",
    "            date = pd.to_datetime(BeautifulSoup(entry, 'html.parser').find_all('h3')[0].contents[0].split('Daily Service Report for ')[1])\n"
   ]
  },
  {
   "cell_type": "code",
   "execution_count": 623,
   "id": "c2804421-d3c4-4912-8a81-6c50054ca511",
   "metadata": {},
   "outputs": [
    {
     "data": {
      "text/html": [
       "<div>\n",
       "<style scoped>\n",
       "    .dataframe tbody tr th:only-of-type {\n",
       "        vertical-align: middle;\n",
       "    }\n",
       "\n",
       "    .dataframe tbody tr th {\n",
       "        vertical-align: top;\n",
       "    }\n",
       "\n",
       "    .dataframe thead th {\n",
       "        text-align: right;\n",
       "    }\n",
       "</style>\n",
       "<table border=\"1\" class=\"dataframe\">\n",
       "  <thead>\n",
       "    <tr style=\"text-align: right;\">\n",
       "      <th></th>\n",
       "      <th>date</th>\n",
       "      <th>text</th>\n",
       "    </tr>\n",
       "  </thead>\n",
       "  <tbody>\n",
       "    <tr>\n",
       "      <th>0</th>\n",
       "      <td>2017-12-30 18:46:00</td>\n",
       "      <td>A Shady Grove-bound Red Line train at Medical\\...</td>\n",
       "    </tr>\n",
       "    <tr>\n",
       "      <th>1</th>\n",
       "      <td>2017-12-30 21:00:00</td>\n",
       "      <td>A New Carrollton-bound Orange Line train at\\nV...</td>\n",
       "    </tr>\n",
       "  </tbody>\n",
       "</table>\n",
       "</div>"
      ],
      "text/plain": [
       "                 date                                               text\n",
       "0 2017-12-30 18:46:00  A Shady Grove-bound Red Line train at Medical\\...\n",
       "1 2017-12-30 21:00:00  A New Carrollton-bound Orange Line train at\\nV..."
      ]
     },
     "execution_count": 623,
     "metadata": {},
     "output_type": "execute_result"
    }
   ],
   "source": [
    "df_tmp"
   ]
  },
  {
   "cell_type": "code",
   "execution_count": 591,
   "id": "1833114c-8ee5-4cdb-bdf6-a935fe40de7b",
   "metadata": {},
   "outputs": [
    {
     "ename": "TypeError",
     "evalue": "'NoneType' object is not callable",
     "output_type": "error",
     "traceback": [
      "\u001b[0;31m---------------------------------------------------------------------------\u001b[0m",
      "\u001b[0;31mTypeError\u001b[0m                                 Traceback (most recent call last)",
      "Input \u001b[0;32mIn [591]\u001b[0m, in \u001b[0;36m<cell line: 1>\u001b[0;34m()\u001b[0m\n\u001b[0;32m----> 1\u001b[0m \u001b[43mBeautifulSoup\u001b[49m\u001b[43m(\u001b[49m\u001b[43mentry\u001b[49m\u001b[43m,\u001b[49m\u001b[43m \u001b[49m\u001b[38;5;124;43m'\u001b[39;49m\u001b[38;5;124;43mhtml.parser\u001b[39;49m\u001b[38;5;124;43m'\u001b[39;49m\u001b[43m)\u001b[49m\u001b[38;5;241;43m.\u001b[39;49m\u001b[43msplit\u001b[49m\u001b[43m(\u001b[49m\u001b[38;5;124;43m'\u001b[39;49m\u001b[38;5;124;43mDaily Service Report for \u001b[39;49m\u001b[38;5;124;43m'\u001b[39;49m\u001b[43m)\u001b[49m[\u001b[38;5;241m0\u001b[39m]\u001b[38;5;241m.\u001b[39mfind_all(\u001b[38;5;124m'\u001b[39m\u001b[38;5;124mh3\u001b[39m\u001b[38;5;124m'\u001b[39m)[\u001b[38;5;241m0\u001b[39m]\u001b[38;5;241m.\u001b[39mcontents[\u001b[38;5;241m0\u001b[39m]\n",
      "\u001b[0;31mTypeError\u001b[0m: 'NoneType' object is not callable"
     ]
    }
   ],
   "source": [
    ".split('Daily Service Report for ')[0].find_all('h3')[0].contents[0]"
   ]
  },
  {
   "cell_type": "code",
   "execution_count": 559,
   "id": "0bd7f7ee-77da-4c1f-96eb-365237a57374",
   "metadata": {},
   "outputs": [
    {
     "data": {
      "text/plain": [
       "[<p>After-Hours Commuter Service Pilot Program</p>,\n",
       " <p>New: Personalized bus timetables</p>,\n",
       " <p>View real-time train locations</p>,\n",
       " <p>It's go time. Tap and go time.</p>,\n",
       " <p>Keeping Metro Safe, Reliable and Affordable</p>,\n",
       " <p>Save $$$ with SmartBenefits®</p>,\n",
       " <p>Now Hiring: Metrobus Drivers</p>,\n",
       " <p>Search for transportation near you</p>,\n",
       " <p>Search for transportation near you</p>,\n",
       " <p class=\"small-text\"><a href=\"/about/records/privacy.cfm\">Metro's privacy policy</a></p>,\n",
       " <p>\n",
       " TRAVEL INFORMATION <br/>\n",
       " <a href=\"tel:+1-202-637-7000\">202.637.7000</a>\n",
       " </p>,\n",
       " <p>\n",
       " TTY<br/>\n",
       " <a href=\"tel:+1-202-962-2033\">202.962.2033</a>\n",
       " </p>,\n",
       " <p>\n",
       " TRANSIT POLICE <br/>\n",
       " <a href=\"tel:+1-202-962-2121\">202.962.2121</a>\n",
       " </p>,\n",
       " <p>\n",
       " TEXT:<br/><a href=\"sms:696873\">MYMTPD (696873)</a>\n",
       " </p>,\n",
       " <p>\n",
       " CUSTOMER RELATIONS <br/>\n",
       " <a href=\"tel:+1-202-637-1328\">202.637.1328</a>\n",
       " </p>,\n",
       " <p>\n",
       " CUSTOMER SUPPORT: <br>SMARTRIP &amp; SMARTBENEFITS\n",
       " <a href=\"tel:+1-888-762-7874\">888.762.7874</a> (M—F, 7 am—8 pm)\n",
       " </br></p>]"
      ]
     },
     "execution_count": 559,
     "metadata": {},
     "output_type": "execute_result"
    }
   ],
   "source": [
    "soup.find_all('p')"
   ]
  },
  {
   "cell_type": "code",
   "execution_count": 417,
   "id": "4f9fcbcb-55be-45ad-8440-b1002826c833",
   "metadata": {},
   "outputs": [
    {
     "name": "stdout",
     "output_type": "stream",
     "text": [
      "NOTE: Metrobus information will be added to these reports once new bus technology systems are functional, when Metro can collect and report ridership and service information comparable to that for Metrorail. \n",
      "\n",
      "Percentage of Riders who experienced no delay: 97.47 percent \n",
      "\n",
      "Service Disruptions: \n",
      "\n",
      "7:03 a.m. An inbound Yellow Line train at Huntington experienced mechanical difficulties and was dispatched late. Trains were re-scheduled to maintain regular intervals between trains. \n",
      "2005-07-08 07:03:00 An inbound Yellow Line train at Huntington experienced mechanical difficulties and was dispatched late. Trains were re-scheduled to maintain regular intervals between trains. \n",
      "\n",
      "7:45 a.m. An inbound Red Line train at Rockville reported a mechanical problem, and the train was off-loaded. \n",
      "2005-07-08 07:45:00 An inbound Red Line train at Rockville reported a mechanical problem, and the train was off-loaded. \n",
      "\n",
      "7:45 a.m. An inbound Blue Line train at Capitol Heights reported a problem with the doors, and the train was off-loaded. \n",
      "2005-07-08 07:45:00 An inbound Blue Line train at Capitol Heights reported a problem with the doors, and the train was off-loaded. \n",
      "\n",
      "7:55 a.m. An inbound Green Line train at Waterfront reported a problem with the doors, and the train was off-loaded. \n",
      "2005-07-08 07:55:00 An inbound Green Line train at Waterfront reported a problem with the doors, and the train was off-loaded. \n",
      "\n",
      "8:02 a.m. An outbound Red Line train went to Brentwood Yard incorrectly; the train was re-routed to the main line. \n",
      "2005-07-08 08:02:00 An outbound Red Line train went to Brentwood Yard incorrectly; the train was re-routed to the main line. \n",
      "\n",
      "8:12 a.m. An outbound Red Line train at Bethesda reported a mechanical problem, and the train was off-loaded. \n",
      "2005-07-08 08:12:00 An outbound Red Line train at Bethesda reported a mechanical problem, and the train was off-loaded. \n",
      "\n",
      "8:52 a.m. An outbound Blue Line train at Stadium-Armory reported a station overrun by one car. The train resumed normal service. \n",
      "2005-07-08 08:52:00 An outbound Blue Line train at Stadium-Armory reported a station overrun by one car. The train resumed normal service. \n",
      "\n",
      "9:41 a.m. An inbound Orange Line train at Clarendon reported a station overrun by more than one car. Normal service was resumed. \n",
      "2005-07-08 09:41:00 An inbound Orange Line train at Clarendon reported a station overrun by more than one car. Normal service was resumed. \n",
      "\n",
      "2:33 p.m. An outbound Red Line train at Woodley Park reported a problem with the doors, and the train was off-loaded. \n",
      "2005-07-08 14:33:00 An outbound Red Line train at Woodley Park reported a problem with the doors, and the train was off-loaded. \n",
      "\n",
      "2:43 p.m. An inbound Red Line train at Gallery Place reported an unusual odor. A supervisor boarded the train, the car was closed to the public, and service resumed. \n",
      "2005-07-08 14:43:00 An inbound Red Line train at Gallery Place reported an unusual odor. A supervisor boarded the train, the car was closed to the public, and service resumed. \n",
      "\n",
      "4:28 p.m. An outbound Green Line train at Georgia Ave. reported a mechanical problem, and the train was off-loaded. \n",
      "2005-07-08 16:28:00 An outbound Green Line train at Georgia Ave. reported a mechanical problem, and the train was off-loaded. \n",
      "\n",
      "5:08 p.m. An inbound Red Line train at Friendship Heights reported a mechanical problem, and the train was off-loaded. \n",
      "2005-07-08 17:08:00 An inbound Red Line train at Friendship Heights reported a mechanical problem, and the train was off-loaded. \n",
      "\n",
      "6:32 p.m. An inbound Blue Line train at Federal Triangle reported a door problem. The operator corrected the problem and the train continued in normal service. \n",
      "2005-07-08 18:32:00 An inbound Blue Line train at Federal Triangle reported a door problem. The operator corrected the problem and the train continued in normal service. \n"
     ]
    }
   ],
   "source": [
    "for element in [item for sublist in [e.split('\\\\n') for e in entry.replace('\\t', ' ').split('<br/>')] for item in sublist]:\n",
    "    print(element)\n",
    "    if ':' in element and np.logical_or('a.m.' in element[:20], 'p.m' in element[:20]):\n",
    "        event_date = pd.to_datetime(str(date) + ' ' + ' '.join(element.replace('\\\\n','').replace('\\\\r','').split(' ')[:2]))\n",
    "        event_text =  ' '.join(element.strip('\\n').split(' ')[2:])\n",
    "        df.loc[j] = [event_date, event_text]\n",
    "        print(event_date, event_text)\n",
    "\n",
    "        i += 1\n",
    "    if 'day,'  in element and '<h3>' in element:\n",
    "        date = pd.to_datetime(element.split('<h3>')[1].strip('</h3>\\n'))\n"
   ]
  },
  {
   "cell_type": "code",
   "execution_count": 497,
   "id": "e0e94464-05e2-45d2-b5bd-102d4a32e762",
   "metadata": {},
   "outputs": [
    {
     "name": "stderr",
     "output_type": "stream",
     "text": [
      "  6%|███▉                                                            | 235/3768 [07:44<1:53:37,  1.93s/it]/var/folders/95/6fbcjzp92yxgjjtbwjvbgqgd4mssdk/T/ipykernel_52415/2298363174.py:22: FutureWarning: Inferring datetime64[ns] from data containing strings is deprecated and will be removed in a future version. To retain the old behavior explicitly pass Series(data, dtype=datetime64[ns])\n",
      "  df.loc[j] = [event_date, event_text]\n",
      " 25%|███████████████▋                                                | 925/3768 [28:50<1:22:56,  1.75s/it]"
     ]
    },
    {
     "name": "stdout",
     "output_type": "stream",
     "text": [
      "Error. Details:\n",
      "i = 938\n",
      "Problematic text: 1239 a.m. an outbound Green Line train at Suitland was off-loaded due to a report of a suspicious package.  Customers exited the train and the station while the report was investigated.  Police checked the station and the train, deeming them safe to continue operations.  The station was re-opened at 12:58 a.m.   \n"
     ]
    },
    {
     "name": "stderr",
     "output_type": "stream",
     "text": [
      " 44%|███████████████████████████▊                                   | 1665/3768 [51:51<1:01:50,  1.76s/it]"
     ]
    },
    {
     "name": "stdout",
     "output_type": "stream",
     "text": [
      "Error. Details:\n",
      "i = 1682\n",
      "Problematic text: \n",
      "9:41p.m. A Red Line train at Gallery Place in the direction of Shady Grove was taken out of service because of a door problem, and customers were required to exit the train.    \n"
     ]
    },
    {
     "name": "stderr",
     "output_type": "stream",
     "text": [
      " 44%|███████████████████████████▉                                   | 1672/3768 [52:06<1:08:31,  1.96s/it]"
     ]
    },
    {
     "name": "stdout",
     "output_type": "stream",
     "text": [
      "Error. Details:\n",
      "i = 1687\n",
      "Problematic text: \n",
      "1:11p.m. An Orange Line train at West Falls Church in the direction of New Carrollton was taken out of service because of a door problem, and customers were required to exit the train.    \n"
     ]
    },
    {
     "name": "stderr",
     "output_type": "stream",
     "text": [
      " 51%|█████████████████████████████████▏                               | 1926/3768 [59:52<53:39,  1.75s/it]"
     ]
    },
    {
     "name": "stdout",
     "output_type": "stream",
     "text": [
      "Error. Details:\n",
      "i = 1956\n",
      "Problematic text: \n",
      "7: 20 p.m. A Red Line train at Friendship Heights outbound to Bethesda delayed due to track problem.    \n"
     ]
    },
    {
     "name": "stderr",
     "output_type": "stream",
     "text": [
      " 51%|████████████████████████████████▎                              | 1934/3768 [1:00:06<53:14,  1.74s/it]"
     ]
    },
    {
     "name": "stdout",
     "output_type": "stream",
     "text": [
      "Error. Details:\n",
      "i = 1964\n",
      "Problematic text: \n",
      "7: 28 p.m. A Blue Line train at Stadium Armory outbound to Benning Road overran station by two doors.    \n"
     ]
    },
    {
     "name": "stderr",
     "output_type": "stream",
     "text": [
      " 55%|██████████████████████████████████▉                            | 2090/3768 [1:05:17<55:24,  1.98s/it]"
     ]
    },
    {
     "name": "stdout",
     "output_type": "stream",
     "text": [
      "Error. Details:\n",
      "i = 2124\n",
      "Problematic text: \n",
      "10: 25 p.m. A Shady Grove-bound Red Line Train at Farragut North was delayed 4 minutes due to a door problem.    \n"
     ]
    },
    {
     "name": "stderr",
     "output_type": "stream",
     "text": [
      " 55%|██████████████████████████████████▉                            | 2091/3768 [1:05:19<55:28,  1.98s/it]"
     ]
    },
    {
     "name": "stdout",
     "output_type": "stream",
     "text": [
      "Error. Details:\n",
      "i = 2104\n",
      "Problematic text: From 5:20 a.m. until 12:45 p.m. Red Line trains were single tracked between Silver Spring and Takoma due to a problem with a section of third rail. Customers experienced delays up to 15 minutes in both directions during the morning rush hour. After 9 a.m., trains experienced 5-10 minute delays.    \n"
     ]
    },
    {
     "name": "stderr",
     "output_type": "stream",
     "text": [
      " 58%|████████████████████████████████████▏                          | 2168/3768 [1:08:08<46:47,  1.75s/it]"
     ]
    },
    {
     "name": "stdout",
     "output_type": "stream",
     "text": [
      "Error. Details:\n",
      "i = 2194\n",
      "Problematic text: \n",
      "5:57 p.m.A Vienna-bound Orange Line train at Rosslyn was offloaded due to a brake problem. Customers experienced a 9-minute delay.    \n"
     ]
    },
    {
     "name": "stderr",
     "output_type": "stream",
     "text": [
      " 59%|████████████████████████████████████▉                          | 2208/3768 [1:09:20<48:42,  1.87s/it]"
     ]
    },
    {
     "name": "stdout",
     "output_type": "stream",
     "text": [
      "Error. Details:\n",
      "i = 2238\n",
      "Problematic text: \n",
      "8: 25 p.m. A Branch Avenue-bound Green Line train at West Hyattsville was delayed 5 minutes due to an operational problem.     \n"
     ]
    },
    {
     "name": "stderr",
     "output_type": "stream",
     "text": [
      " 60%|█████████████████████████████████████▊                         | 2260/3768 [1:10:57<43:36,  1.74s/it]"
     ]
    },
    {
     "name": "stdout",
     "output_type": "stream",
     "text": [
      "Error. Details:\n",
      "i = 2290\n",
      "Problematic text: \n",
      "9: 18 p.m. A Largo Town Center-bound Blue Line train at L’Enfant Plaza was delayed 5 minutes due to a door problem.     \n"
     ]
    },
    {
     "name": "stderr",
     "output_type": "stream",
     "text": [
      " 73%|█████████████████████████████████████████████▉                 | 2749/3768 [1:26:06<29:57,  1.76s/it]"
     ]
    },
    {
     "name": "stdout",
     "output_type": "stream",
     "text": [
      "Error. Details:\n",
      "i = 2774\n",
      "Problematic text: \n",
      "6:10p.m. A Greenbelt-bound Green Line train at West Hyattsville was offloaded due to a sick passenger. Several trains were single tracked around the incident train. Passengers experienced an 8-minute delay.    \n"
     ]
    },
    {
     "name": "stderr",
     "output_type": "stream",
     "text": [
      " 78%|████████████████████████████████████████████████▊              | 2921/3768 [1:31:18<29:17,  2.07s/it]"
     ]
    },
    {
     "name": "stdout",
     "output_type": "stream",
     "text": [
      "Error. Details:\n",
      "i = 2945\n",
      "Problematic text: \n",
      "4: 44 p.m. A Branch Avenue-bound Green Line train at College Park was offloaded due to a door problem. Customers experienced an 8-minute delay.    \n"
     ]
    },
    {
     "name": "stderr",
     "output_type": "stream",
     "text": [
      " 82%|███████████████████████████████████████████████████▉           | 3104/3768 [1:37:06<20:02,  1.81s/it]"
     ]
    },
    {
     "name": "stdout",
     "output_type": "stream",
     "text": [
      "Error. Details:\n",
      "i = 3151\n",
      "Problematic text: \n",
      "* 5:00 p.m. to 7:00 p.m. Several Yellow and Blue line trains experienced delays up to 10 minutes due to weather related speed restrictions.    \n"
     ]
    },
    {
     "name": "stderr",
     "output_type": "stream",
     "text": [
      " 91%|█████████████████████████████████████████████████████████▍     | 3437/3768 [1:47:39<09:51,  1.79s/it]"
     ]
    },
    {
     "name": "stdout",
     "output_type": "stream",
     "text": [
      "Error. Details:\n",
      "i = 3459\n",
      "Problematic text: \n",
      "*8:24 a.m. A Vienna-bound Orange Line train outside Dunn Loring station reported a cracked rail. Orange Line trains were single tracked between Vienna and West Falls Church until approximately 11:15 a.m. several trains were offloaded and turned back for schedule adherence/improved train spacing.   Passengers experienced delays up to 30 minutes.    \n"
     ]
    },
    {
     "name": "stderr",
     "output_type": "stream",
     "text": [
      " 93%|██████████████████████████████████████████████████████████▌    | 3502/3768 [1:49:34<07:52,  1.78s/it]"
     ]
    },
    {
     "name": "stdout",
     "output_type": "stream",
     "text": [
      "Error. Details:\n",
      "i = 3533\n",
      "Problematic text: \n",
      "*5:22 p.m. A Franconia-Springfield-bound Blue Line train at Van Dorn Street was offloaded due to fire department activity. Passengers experienced a 20-minute delay.    \n"
     ]
    },
    {
     "name": "stderr",
     "output_type": "stream",
     "text": [
      "100%|███████████████████████████████████████████████████████████████| 3768/3768 [1:57:36<00:00,  1.87s/it]\n"
     ]
    }
   ],
   "source": [
    "#df = pd.DataFrame(columns = ['date','text'])\n",
    "\n",
    "for i in trange(13, 3781):\n",
    "    df_temp = scraper.get_incidents(i = i)\n",
    "    df = pd.concat([df, df_temp], axis = 0)\n",
    "    time.sleep(1)"
   ]
  },
  {
   "cell_type": "code",
   "execution_count": 544,
   "id": "f4ad6581-64cd-49bc-95b9-fbb4322b26b4",
   "metadata": {},
   "outputs": [
    {
     "data": {
      "text/html": [
       "<div>\n",
       "<style scoped>\n",
       "    .dataframe tbody tr th:only-of-type {\n",
       "        vertical-align: middle;\n",
       "    }\n",
       "\n",
       "    .dataframe tbody tr th {\n",
       "        vertical-align: top;\n",
       "    }\n",
       "\n",
       "    .dataframe thead th {\n",
       "        text-align: right;\n",
       "    }\n",
       "</style>\n",
       "<table border=\"1\" class=\"dataframe\">\n",
       "  <thead>\n",
       "    <tr style=\"text-align: right;\">\n",
       "      <th></th>\n",
       "      <th>date</th>\n",
       "      <th>text</th>\n",
       "    </tr>\n",
       "  </thead>\n",
       "  <tbody>\n",
       "    <tr>\n",
       "      <th>0</th>\n",
       "      <td>2005-07-08 07:03:00</td>\n",
       "      <td>An inbound Yellow Line train at Huntington exp...</td>\n",
       "    </tr>\n",
       "    <tr>\n",
       "      <th>1</th>\n",
       "      <td>2005-07-08 07:45:00</td>\n",
       "      <td>An inbound Red Line train at Rockville reporte...</td>\n",
       "    </tr>\n",
       "    <tr>\n",
       "      <th>2</th>\n",
       "      <td>2005-07-08 07:45:00</td>\n",
       "      <td>An inbound Blue Line train at Capitol Heights ...</td>\n",
       "    </tr>\n",
       "    <tr>\n",
       "      <th>3</th>\n",
       "      <td>2005-07-08 07:55:00</td>\n",
       "      <td>An inbound Green Line train at Waterfront repo...</td>\n",
       "    </tr>\n",
       "    <tr>\n",
       "      <th>4</th>\n",
       "      <td>2005-07-08 08:02:00</td>\n",
       "      <td>An outbound Red Line train went to Brentwood Y...</td>\n",
       "    </tr>\n",
       "    <tr>\n",
       "      <th>...</th>\n",
       "      <td>...</td>\n",
       "      <td>...</td>\n",
       "    </tr>\n",
       "    <tr>\n",
       "      <th>49209</th>\n",
       "      <td>2016-12-05 14:30:00</td>\n",
       "      <td>A Franconia-Springfield-bound Blue Line train ...</td>\n",
       "    </tr>\n",
       "    <tr>\n",
       "      <th>49210</th>\n",
       "      <td>2016-12-05 15:15:00</td>\n",
       "      <td>A New Carrollton-bound Orange Line train at Ch...</td>\n",
       "    </tr>\n",
       "    <tr>\n",
       "      <th>49211</th>\n",
       "      <td>2016-12-05 16:17:00</td>\n",
       "      <td>A Huntington-bound Yellow Line train at Braddo...</td>\n",
       "    </tr>\n",
       "    <tr>\n",
       "      <th>49212</th>\n",
       "      <td>2016-12-05 16:52:00</td>\n",
       "      <td>A Grosvenor-bound Red Line train at Friendship...</td>\n",
       "    </tr>\n",
       "    <tr>\n",
       "      <th>49213</th>\n",
       "      <td>2016-12-05 17:35:00</td>\n",
       "      <td>A Huntington-bound Yellow Line train at L'Enfa...</td>\n",
       "    </tr>\n",
       "  </tbody>\n",
       "</table>\n",
       "<p>49214 rows × 2 columns</p>\n",
       "</div>"
      ],
      "text/plain": [
       "                      date                                               text\n",
       "0      2005-07-08 07:03:00  An inbound Yellow Line train at Huntington exp...\n",
       "1      2005-07-08 07:45:00  An inbound Red Line train at Rockville reporte...\n",
       "2      2005-07-08 07:45:00  An inbound Blue Line train at Capitol Heights ...\n",
       "3      2005-07-08 07:55:00  An inbound Green Line train at Waterfront repo...\n",
       "4      2005-07-08 08:02:00  An outbound Red Line train went to Brentwood Y...\n",
       "...                    ...                                                ...\n",
       "49209  2016-12-05 14:30:00  A Franconia-Springfield-bound Blue Line train ...\n",
       "49210  2016-12-05 15:15:00  A New Carrollton-bound Orange Line train at Ch...\n",
       "49211  2016-12-05 16:17:00  A Huntington-bound Yellow Line train at Braddo...\n",
       "49212  2016-12-05 16:52:00  A Grosvenor-bound Red Line train at Friendship...\n",
       "49213  2016-12-05 17:35:00  A Huntington-bound Yellow Line train at L'Enfa...\n",
       "\n",
       "[49214 rows x 2 columns]"
      ]
     },
     "execution_count": 544,
     "metadata": {},
     "output_type": "execute_result"
    }
   ],
   "source": [
    "df"
   ]
  },
  {
   "cell_type": "code",
   "execution_count": 538,
   "id": "1d59e912-bfdb-4462-8c84-63c058334f49",
   "metadata": {},
   "outputs": [],
   "source": [
    "\n",
    "links = []\n",
    "for year in ['2017','2018','2019','2021']:\n",
    "    page = requests.get('https://www.wmata.com/service/daily-report/archive-'+year+'.cfm', verify=False)\n",
    "    soup = BeautifulSoup(page.content, 'html.parser')\n",
    "\n",
    "    for link in soup.find(class_='cs_control CS_Element_Custom').find_all('a'):\n",
    "        links.append(link.get('href').split('id=')[1])"
   ]
  },
  {
   "cell_type": "code",
   "execution_count": 639,
   "id": "f880f8d9-fc6a-4bc7-a255-59a6d3af820f",
   "metadata": {},
   "outputs": [],
   "source": [
    "links2 = []\n",
    "for year in ['2020']:\n",
    "    page = requests.get('https://www.wmata.com/service/daily-report/archive-'+year+'.cfm', verify=False)\n",
    "    soup = BeautifulSoup(page.content, 'html.parser')\n",
    "\n",
    "    for link in soup.find(class_='cs_control CS_Element_Custom').find_all('a'):\n",
    "        links2.append(link.get('href').split('id=')[1])"
   ]
  },
  {
   "cell_type": "code",
   "execution_count": 630,
   "id": "25fcd102-bb07-4154-ac7f-5ad9c6dc0414",
   "metadata": {},
   "outputs": [
    {
     "name": "stderr",
     "output_type": "stream",
     "text": [
      "100%|█████████████████████████████████████████████████████████████████| 1148/1148 [32:38<00:00,  1.71s/it]\n"
     ]
    }
   ],
   "source": [
    "for i in tqdm(links):\n",
    "    df_temp = scraper.get_incidents(i = i)\n",
    "    df = pd.concat([df, df_temp], axis = 0)\n",
    "    time.sleep(1)"
   ]
  },
  {
   "cell_type": "code",
   "execution_count": 640,
   "id": "eb22d8e1-4222-441a-94a5-2cfeb2d5e8a7",
   "metadata": {},
   "outputs": [
    {
     "name": "stderr",
     "output_type": "stream",
     "text": [
      "  8%|█████▏                                                              | 28/366 [00:48<10:27,  1.86s/it]"
     ]
    },
    {
     "name": "stdout",
     "output_type": "stream",
     "text": [
      "Error. Details:\n",
      "i = 20201203071826\n",
      "Problematic text: <div>6:36 a.m. A Vienna-bound Orange Line train at West Falls Church was offloaded due to a brake problem. Passengers experienced a 2-minute delay.\n",
      " </div><div>\n",
      "Error. Details:\n",
      "i = 20201203071826\n",
      "Problematic text: </div><div>9:38 a.m. A Shady Grove-bound Red Line train at Union Station was offloaded due to an equipment problem. Passengers experienced a 6-minute delay.\n",
      " </div><div>\n",
      "Error. Details:\n",
      "i = 20201203071826\n",
      "Problematic text: </div><div>3:47 p.m. A Largo Town Center-bound Silver Line train at Wiehle-Reston East did not operate, resulting in an 8-minute gap in service. \n",
      "</div><div>\n",
      "Error. Details:\n",
      "i = 20201203071826\n",
      "Problematic text: </div><div>4:26 p.m. A New Carrollton-bound Orange Line train at Vienna did not operate, resulting in an 8-minute gap in service. \n",
      "</div><div>\n",
      "Error. Details:\n",
      "i = 20201203071826\n",
      "Problematic text: </div><div>4:30 p.m. A Shady Grove-bound Red Line train at Cleveland Park was delayed 8 minutes due to a medical emergency.\n",
      " </div><div>\n",
      "Error. Details:\n",
      "i = 20201203071826\n",
      "Problematic text: </div><div>5:16 p.m. A Branch Avenue-bound Green Line train at Mt Vernon Square was delayed 9 minutes due to debris on the track.</div></div>\n",
      "\n"
     ]
    },
    {
     "name": "stderr",
     "output_type": "stream",
     "text": [
      "100%|███████████████████████████████████████████████████████████████████| 366/366 [10:45<00:00,  1.76s/it]\n"
     ]
    }
   ],
   "source": [
    "for i in tqdm(links2):\n",
    "    df_temp = scraper.get_incidents(i = i)\n",
    "    df = pd.concat([df, df_temp], axis = 0)\n",
    "    time.sleep(1)"
   ]
  },
  {
   "cell_type": "code",
   "execution_count": 641,
   "id": "d8122a77-ed3a-4e10-acbe-c7d50e411850",
   "metadata": {},
   "outputs": [],
   "source": [
    "df.index = np.arange(len(df))"
   ]
  },
  {
   "cell_type": "code",
   "execution_count": 642,
   "id": "cb294f2b-618f-423d-8ec3-5fa188226acf",
   "metadata": {},
   "outputs": [
    {
     "data": {
      "text/html": [
       "<div>\n",
       "<style scoped>\n",
       "    .dataframe tbody tr th:only-of-type {\n",
       "        vertical-align: middle;\n",
       "    }\n",
       "\n",
       "    .dataframe tbody tr th {\n",
       "        vertical-align: top;\n",
       "    }\n",
       "\n",
       "    .dataframe thead th {\n",
       "        text-align: right;\n",
       "    }\n",
       "</style>\n",
       "<table border=\"1\" class=\"dataframe\">\n",
       "  <thead>\n",
       "    <tr style=\"text-align: right;\">\n",
       "      <th></th>\n",
       "      <th>date</th>\n",
       "      <th>text</th>\n",
       "    </tr>\n",
       "  </thead>\n",
       "  <tbody>\n",
       "    <tr>\n",
       "      <th>0</th>\n",
       "      <td>2005-07-08 07:03:00</td>\n",
       "      <td>An inbound Yellow Line train at Huntington exp...</td>\n",
       "    </tr>\n",
       "    <tr>\n",
       "      <th>1</th>\n",
       "      <td>2005-07-08 07:45:00</td>\n",
       "      <td>An inbound Red Line train at Rockville reporte...</td>\n",
       "    </tr>\n",
       "    <tr>\n",
       "      <th>2</th>\n",
       "      <td>2005-07-08 07:45:00</td>\n",
       "      <td>An inbound Blue Line train at Capitol Heights ...</td>\n",
       "    </tr>\n",
       "    <tr>\n",
       "      <th>3</th>\n",
       "      <td>2005-07-08 07:55:00</td>\n",
       "      <td>An inbound Green Line train at Waterfront repo...</td>\n",
       "    </tr>\n",
       "    <tr>\n",
       "      <th>4</th>\n",
       "      <td>2005-07-08 08:02:00</td>\n",
       "      <td>An outbound Red Line train went to Brentwood Y...</td>\n",
       "    </tr>\n",
       "    <tr>\n",
       "      <th>...</th>\n",
       "      <td>...</td>\n",
       "      <td>...</td>\n",
       "    </tr>\n",
       "    <tr>\n",
       "      <th>66043</th>\n",
       "      <td>2020-01-02 17:17:00</td>\n",
       "      <td>A Greenbelt-bound Green Line train at Anacosti...</td>\n",
       "    </tr>\n",
       "    <tr>\n",
       "      <th>66044</th>\n",
       "      <td>2020-01-01 09:30:00</td>\n",
       "      <td>A Branch Avenue-bound Green Line train at Anac...</td>\n",
       "    </tr>\n",
       "    <tr>\n",
       "      <th>66045</th>\n",
       "      <td>2020-01-01 16:02:00</td>\n",
       "      <td>A Branch Avenue-bound Green Line train at Cong...</td>\n",
       "    </tr>\n",
       "    <tr>\n",
       "      <th>66046</th>\n",
       "      <td>2020-01-01 20:40:00</td>\n",
       "      <td>A Largo Town Center-bound Blue Line train at V...</td>\n",
       "    </tr>\n",
       "    <tr>\n",
       "      <th>66047</th>\n",
       "      <td>2020-01-01 20:45:00</td>\n",
       "      <td>A Largo Town Center-bound Blue Line train at M...</td>\n",
       "    </tr>\n",
       "  </tbody>\n",
       "</table>\n",
       "<p>66048 rows × 2 columns</p>\n",
       "</div>"
      ],
      "text/plain": [
       "                      date                                               text\n",
       "0      2005-07-08 07:03:00  An inbound Yellow Line train at Huntington exp...\n",
       "1      2005-07-08 07:45:00  An inbound Red Line train at Rockville reporte...\n",
       "2      2005-07-08 07:45:00  An inbound Blue Line train at Capitol Heights ...\n",
       "3      2005-07-08 07:55:00  An inbound Green Line train at Waterfront repo...\n",
       "4      2005-07-08 08:02:00  An outbound Red Line train went to Brentwood Y...\n",
       "...                    ...                                                ...\n",
       "66043  2020-01-02 17:17:00  A Greenbelt-bound Green Line train at Anacosti...\n",
       "66044  2020-01-01 09:30:00  A Branch Avenue-bound Green Line train at Anac...\n",
       "66045  2020-01-01 16:02:00  A Branch Avenue-bound Green Line train at Cong...\n",
       "66046  2020-01-01 20:40:00  A Largo Town Center-bound Blue Line train at V...\n",
       "66047  2020-01-01 20:45:00  A Largo Town Center-bound Blue Line train at M...\n",
       "\n",
       "[66048 rows x 2 columns]"
      ]
     },
     "execution_count": 642,
     "metadata": {},
     "output_type": "execute_result"
    }
   ],
   "source": [
    "df"
   ]
  },
  {
   "cell_type": "code",
   "execution_count": 643,
   "id": "728372f9-166c-4a3a-8808-2b8a50d96071",
   "metadata": {},
   "outputs": [],
   "source": [
    "df.to_json('wmata_data.jsonl')"
   ]
  },
  {
   "cell_type": "code",
   "execution_count": null,
   "id": "137c4c60-0c18-4af4-882c-3a09dc7ba7d3",
   "metadata": {},
   "outputs": [],
   "source": [
    "# Missing data:\n",
    "# Feb 16, 2011 - April 29, 2012 \n",
    "# Reason: ???\n",
    "\n",
    "# December 6 - December 31, 2016\n",
    "# Reason: ??? (Back2Good announced the week before? New system?)\n",
    "\n",
    "# Feb 2021 - Present\n",
    "# Reason: ???"
   ]
  },
  {
   "cell_type": "code",
   "execution_count": 644,
   "id": "3023aac8-ca32-4c14-8003-578cd119b286",
   "metadata": {},
   "outputs": [
    {
     "data": {
      "image/png": "[encoded data removed]",
      "text/plain": [
       "<Figure size 1440x864 with 1 Axes>"
      ]
     },
     "metadata": {
      "needs_background": "light"
     },
     "output_type": "display_data"
    }
   ],
   "source": [
    "fig = plt.figure(figsize = [20,12])\n",
    "\n",
    "plt.hist(df['date'], bins = pd.date_range('08JUL2005','01MAR2021', freq = '1W'))\n",
    "plt.axvline(pd.to_datetime('30NOV2016'), c = 'r', ls = '--')\n",
    "plt.show()"
   ]
  },
  {
   "cell_type": "code",
   "execution_count": 645,
   "id": "53a0b119-1468-4374-8a05-cb07333c9f15",
   "metadata": {},
   "outputs": [
    {
     "data": {
      "image/png": "[encoded data removed]",
      "text/plain": [
       "<Figure size 1440x864 with 1 Axes>"
      ]
     },
     "metadata": {
      "needs_background": "light"
     },
     "output_type": "display_data"
    }
   ],
   "source": [
    "fig = plt.figure(figsize = [20,12])\n",
    "\n",
    "plt.hist(df['date'].iloc[np.where(df['text'].apply(lambda x: 'polic' in str(x)))], bins = pd.date_range('08JUL2005','01MAR2021', freq = '1W'))\n",
    "plt.axvline(pd.to_datetime('30NOV2016'), c = 'r', ls = '--')\n",
    "plt.show()"
   ]
  },
  {
   "cell_type": "code",
   "execution_count": 675,
   "id": "af26f988-a8e1-4885-8dcb-1c560fb655e7",
   "metadata": {},
   "outputs": [
    {
     "data": {
      "image/png": "[encoded data removed]",
      "text/plain": [
       "<Figure size 1440x864 with 1 Axes>"
      ]
     },
     "metadata": {
      "needs_background": "light"
     },
     "output_type": "display_data"
    }
   ],
   "source": [
    "fig = plt.figure(figsize = [20,12])\n",
    "\n",
    "plt.hist(df['date'].iloc[np.where(df['text'].apply(lambda x: 'inbound' in str(x)))], bins = pd.date_range('08JUL2005','01MAR2021', freq = '1W'))\n",
    "plt.axvline(pd.to_datetime('30NOV2016'), c = 'r', ls = '--')\n",
    "plt.show()"
   ]
  },
  {
   "cell_type": "code",
   "execution_count": null,
   "id": "efa6f4a0-8e93-4aed-bab4-2000be53c934",
   "metadata": {},
   "outputs": [],
   "source": [
    "# TO DO \n",
    "# fix bugs pre-2009 Done!\n",
    "# Scrape post-2015 ish\n",
    "# Add in problematic entries\n",
    "# Parse for location\n",
    "# Parse for direction\n",
    "# Parse for 'X problem'"
   ]
  },
  {
   "cell_type": "code",
   "execution_count": 676,
   "id": "ae52e3c9-3a9d-44e1-9abc-7bb5c4461d6e",
   "metadata": {},
   "outputs": [
    {
     "data": {
      "image/png": "[encoded data removed]",
      "text/plain": [
       "<Figure size 864x864 with 1 Axes>"
      ]
     },
     "metadata": {
      "needs_background": "light"
     },
     "output_type": "display_data"
    }
   ],
   "source": [
    "fig = plt.figure(figsize = [12,12])\n",
    "plt.hist(df['date'].apply(lambda x: x.hour)*60 + df['date'].apply(lambda x: x.minute), bins = np.arange(1440))\n",
    "plt.ylim([0, 200])\n",
    "plt.show()"
   ]
  },
  {
   "cell_type": "code",
   "execution_count": 399,
   "id": "03a02deb-f772-4a0d-9fae-20ffe25bb31e",
   "metadata": {},
   "outputs": [
    {
     "data": {
      "text/plain": [
       "0       18\n",
       "0       15\n",
       "0       16\n",
       "0       19\n",
       "0       21\n",
       "        ..\n",
       "1873    16\n",
       "1874    17\n",
       "1875    17\n",
       "1876    17\n",
       "1877    18\n",
       "Name: date, Length: 7834, dtype: int64"
      ]
     },
     "execution_count": 399,
     "metadata": {},
     "output_type": "execute_result"
    }
   ],
   "source": [
    "df['date'].apply(lambda x: x.hour)"
   ]
  },
  {
   "cell_type": "code",
   "execution_count": 80,
   "id": "ee5a334b-2a1f-4f9a-bbb2-a0cb3deabdb9",
   "metadata": {},
   "outputs": [
    {
     "data": {
      "text/html": [
       "<div>\n",
       "<style scoped>\n",
       "    .dataframe tbody tr th:only-of-type {\n",
       "        vertical-align: middle;\n",
       "    }\n",
       "\n",
       "    .dataframe tbody tr th {\n",
       "        vertical-align: top;\n",
       "    }\n",
       "\n",
       "    .dataframe thead th {\n",
       "        text-align: right;\n",
       "    }\n",
       "</style>\n",
       "<table border=\"1\" class=\"dataframe\">\n",
       "  <thead>\n",
       "    <tr style=\"text-align: right;\">\n",
       "      <th></th>\n",
       "      <th>date</th>\n",
       "      <th>text</th>\n",
       "    </tr>\n",
       "  </thead>\n",
       "  <tbody>\n",
       "    <tr>\n",
       "      <th>0</th>\n",
       "      <td>2009-06-22</td>\n",
       "      <td>9:13 a.m. A Red Line train at Gallery Pl-China...</td>\n",
       "    </tr>\n",
       "    <tr>\n",
       "      <th>1</th>\n",
       "      <td>2009-06-22</td>\n",
       "      <td>1:43 p.m. A Blue Line train at Capitol South i...</td>\n",
       "    </tr>\n",
       "    <tr>\n",
       "      <th>2</th>\n",
       "      <td>2009-06-22</td>\n",
       "      <td>2:10 p.m. A Yellow Line train at Crystal City ...</td>\n",
       "    </tr>\n",
       "    <tr>\n",
       "      <th>3</th>\n",
       "      <td>2009-06-22</td>\n",
       "      <td>3:13 p.m. A Blue Line train at Pentagon City i...</td>\n",
       "    </tr>\n",
       "    <tr>\n",
       "      <th>4</th>\n",
       "      <td>2009-06-22</td>\n",
       "      <td>3:57 p.m. A Red Line train at Tenleytown-AU in...</td>\n",
       "    </tr>\n",
       "    <tr>\n",
       "      <th>5</th>\n",
       "      <td>2009-06-22</td>\n",
       "      <td>4:35 p.m. An Orange Line train at Foggy Bottom...</td>\n",
       "    </tr>\n",
       "    <tr>\n",
       "      <th>6</th>\n",
       "      <td>2009-06-22</td>\n",
       "      <td>4:58 p.m. A Red Line train approaching Fort To...</td>\n",
       "    </tr>\n",
       "    <tr>\n",
       "      <th>7</th>\n",
       "      <td>2009-06-22</td>\n",
       "      <td>5:40 p.m. An Orange Line train at Ballston in ...</td>\n",
       "    </tr>\n",
       "    <tr>\n",
       "      <th>8</th>\n",
       "      <td>2009-06-22</td>\n",
       "      <td>5:52 p.m. A Blue Line train at Smithsonian in ...</td>\n",
       "    </tr>\n",
       "    <tr>\n",
       "      <th>9</th>\n",
       "      <td>2009-06-22</td>\n",
       "      <td>8:39 p.m. A Yellow Line train at King Street i...</td>\n",
       "    </tr>\n",
       "  </tbody>\n",
       "</table>\n",
       "</div>"
      ],
      "text/plain": [
       "        date                                               text\n",
       "0 2009-06-22  9:13 a.m. A Red Line train at Gallery Pl-China...\n",
       "1 2009-06-22  1:43 p.m. A Blue Line train at Capitol South i...\n",
       "2 2009-06-22  2:10 p.m. A Yellow Line train at Crystal City ...\n",
       "3 2009-06-22  3:13 p.m. A Blue Line train at Pentagon City i...\n",
       "4 2009-06-22  3:57 p.m. A Red Line train at Tenleytown-AU in...\n",
       "5 2009-06-22  4:35 p.m. An Orange Line train at Foggy Bottom...\n",
       "6 2009-06-22  4:58 p.m. A Red Line train approaching Fort To...\n",
       "7 2009-06-22  5:40 p.m. An Orange Line train at Ballston in ...\n",
       "8 2009-06-22  5:52 p.m. A Blue Line train at Smithsonian in ...\n",
       "9 2009-06-22  8:39 p.m. A Yellow Line train at King Street i..."
      ]
     },
     "execution_count": 80,
     "metadata": {},
     "output_type": "execute_result"
    }
   ],
   "source": [
    "df = pd.DataFrame(columns = ['date','text'])\n",
    "i = 0\n",
    "for entry in soup.find(class_ = 'cs_control CS_Element_CustomCF').decode_contents().split('<p>'):\n",
    "    if ':' in entry and np.logical_or('a.m.' in entry, 'p.m' in entry):\n",
    "        event_date = date + pd.to_datetime()\n",
    "        event_text = entry.strip('\\n')\n",
    "        df.loc[i] = [event_date, event_text]\n",
    "        i += 1\n",
    "    if 'day,'  in entry:\n",
    "        date = pd.to_datetime(entry.split('<h3>')[1].strip('</h3>\\n'))\n"
   ]
  },
  {
   "cell_type": "code",
   "execution_count": 75,
   "id": "ce7634fd-9572-496e-85ea-ef58c4093ec9",
   "metadata": {},
   "outputs": [],
   "source": [
    "for entry in soup.find(class_ = 'cs_control CS_Element_CustomCF').decode_contents().split('<p>'):\n",
    "    if ':' in entry and np.logical_or('a.m.' in entry, 'p.m' in entry):\n",
    "        event_date = date\n",
    "        event_text = entry.strip('\\n')\n",
    "    if 'day,'  in entry:\n",
    "        date = pd.to_datetime(entry.split('<h3>')[1].strip('</h3>\\n'))"
   ]
  },
  {
   "cell_type": "code",
   "execution_count": null,
   "id": "bdbec244-813d-4f1c-bb44-4a2a7edec94c",
   "metadata": {},
   "outputs": [],
   "source": []
  },
  {
   "cell_type": "markdown",
   "id": "dfdf5080-f44b-46b2-8004-c07d349a54eb",
   "metadata": {},
   "source": [
    "# Daylight Savings Time"
   ]
  },
  {
   "cell_type": "code",
   "execution_count": 263,
   "id": "335ef0f7-106f-44fe-b5bf-afd87f735ee3",
   "metadata": {},
   "outputs": [],
   "source": [
    "from astral import LocationInfo\n",
    "import datetime\n",
    "from astral.sun import sun\n",
    "from astral.geocoder import database, lookup\n",
    "from matplotlib.colors import LinearSegmentedColormap\n",
    "\n",
    "colors = [\"royalblue\", \"orange\"] # Change to your colors of choice\n",
    "cmap1 = LinearSegmentedColormap.from_list(\"mycmap\", colors)\n"
   ]
  },
  {
   "cell_type": "code",
   "execution_count": 336,
   "id": "6599bd38-f0b9-4f67-a104-cc0cc17f152f",
   "metadata": {
    "tags": []
   },
   "outputs": [],
   "source": [
    "def dst_matrices(city):\n",
    "    m_no_dst = np.zeros((365, 1440))\n",
    "    m_yes_dst = np.zeros((365, 1440))\n",
    "    m_perm_dst = np.zeros((365, 1440))\n",
    "\n",
    "    a = np.arange(0, 1440)\n",
    "    for i,d in enumerate(pd.date_range('01JAN2022', '31DEC2022', freq = '1D')):\n",
    "        s = sun(city.observer, date=d, tzinfo = city.timezone)\n",
    "        sunrise_minutes = 60*s['sunrise'].hour + s['sunrise'].minute\n",
    "        if s['sunset'].day > s['sunrise'].day:\n",
    "            sunset_minutes = 60*s['sunset'].hour + s['sunset'].minute + 1440\n",
    "        else:\n",
    "            sunset_minutes = 60*s['sunset'].hour + s['sunset'].minute\n",
    "        m_yes_dst[i] = 1.*np.logical_and(a>sunrise_minutes, a<sunset_minutes)\n",
    "\n",
    "        if city.timezone == 'US/Eastern':\n",
    "            offset = 5\n",
    "        elif city.timezone == 'US/Central':\n",
    "            offset = 6\n",
    "        elif city.timezone == 'US/Mountain':\n",
    "            offset = 7\n",
    "        elif city.timezone == 'US/Pacific':\n",
    "            offset = 8\n",
    "\n",
    "        s = sun(city.observer, date=d, tzinfo = 'UTC')\n",
    "        sunrise_minutes = 60*s['sunrise'].hour + s['sunrise'].minute - offset*60\n",
    "        if s['sunset'].day+31*s['sunset'].month > s['sunrise'].day+31*s['sunrise'].month:\n",
    "            sunset_minutes = 60*s['sunset'].hour + s['sunset'].minute + 1440 - offset*60\n",
    "        else:\n",
    "            sunset_minutes = 60*s['sunset'].hour + s['sunset'].minute - offset*60\n",
    "        m_no_dst[i] = 1.*np.logical_and(a>sunrise_minutes, a<sunset_minutes)\n",
    "\n",
    "        sunrise_minutes = 60*s['sunrise'].hour + s['sunrise'].minute - (offset-1)*60\n",
    "        if s['sunset'].day+31*s['sunset'].month > s['sunrise'].day+31*s['sunrise'].month:\n",
    "            sunset_minutes = 60*s['sunset'].hour + s['sunset'].minute + 1440 - (offset-1)*60\n",
    "        else:\n",
    "            sunset_minutes = 60*s['sunset'].hour + s['sunset'].minute - (offset-1)*60\n",
    "        m_perm_dst[i] = 1.*np.logical_and(a>sunrise_minutes, a<sunset_minutes)\n",
    "    return m_no_dst,m_yes_dst,m_perm_dst\n",
    "\n",
    "def plot_dst(city, hgrid = True):\n",
    "    plt.rcParams['font.size'] = 14\n",
    "    fig = plt.figure(figsize = [25,10])\n",
    "    plt.suptitle(city.name)\n",
    "    m_no_dst,m_yes_dst,m_perm_dst = dst_matrices(city)\n",
    "\n",
    "    plt.subplot(131)\n",
    "    plt.imshow(m_yes_dst, aspect = 5, cmap = cmap1)\n",
    "    plt.title('Standard DST')\n",
    "    plt.xticks(np.array([0, 240, 480, 720, 960, 1200]),\n",
    "                ['12AM','4AM','8AM','12PM','4PM','8PM'])\n",
    "    plt.yticks(np.array([0, 31, 59, 90, 120, 151, 181, 212, 243, 273, 304, 334]),\n",
    "                ['January','February','March','April','May','June','July','August','September','October','November','December'])\n",
    "    plt.axvline(480, ls = '--', c = 'k', lw = 2.)\n",
    "    plt.axvline(1200, ls = '--', c = 'k', lw = 2.)\n",
    "\n",
    "    if hgrid:\n",
    "        plt.axhline(31, ls = '--', c = 'k', lw = 1.)\n",
    "        plt.axhline(59, ls = '--', c = 'k', lw = 1.)\n",
    "        plt.axhline(90, ls = '--', c = 'k', lw = 1.)\n",
    "        plt.axhline(120, ls = '--', c = 'k', lw = 1.)\n",
    "        plt.axhline(151, ls = '--', c = 'k', lw = 1.)\n",
    "        plt.axhline(181, ls = '--', c = 'k', lw = 1.)\n",
    "        plt.axhline(212, ls = '--', c = 'k', lw = 1.)\n",
    "        plt.axhline(243, ls = '--', c = 'k', lw = 1.)\n",
    "        plt.axhline(273, ls = '--', c = 'k', lw = 1.)\n",
    "        plt.axhline(304, ls = '--', c = 'k', lw = 1.)\n",
    "        plt.axhline(334, ls = '--', c = 'k', lw = 1.)\n",
    "\n",
    "    plt.subplot(132)\n",
    "    plt.title('No DST')\n",
    "    plt.imshow(m_no_dst, aspect = 5, cmap = cmap1)\n",
    "    plt.xticks(np.array([0, 240, 480, 720, 960, 1200]),\n",
    "                ['12AM','4AM','8AM','12PM','4PM','8PM'])\n",
    "    plt.axvline(480, ls = '--', c = 'k', lw = 2.)\n",
    "    plt.axvline(1200, ls = '--', c = 'k', lw = 2.)\n",
    "    plt.yticks([], [])\n",
    "    if hgrid:\n",
    "        plt.axhline(31, ls = '--', c = 'k', lw = 1.)\n",
    "        plt.axhline(59, ls = '--', c = 'k', lw = 1.)\n",
    "        plt.axhline(90, ls = '--', c = 'k', lw = 1.)\n",
    "        plt.axhline(120, ls = '--', c = 'k', lw = 1.)\n",
    "        plt.axhline(151, ls = '--', c = 'k', lw = 1.)\n",
    "        plt.axhline(181, ls = '--', c = 'k', lw = 1.)\n",
    "        plt.axhline(212, ls = '--', c = 'k', lw = 1.)\n",
    "        plt.axhline(243, ls = '--', c = 'k', lw = 1.)\n",
    "        plt.axhline(273, ls = '--', c = 'k', lw = 1.)\n",
    "        plt.axhline(304, ls = '--', c = 'k', lw = 1.)\n",
    "        plt.axhline(334, ls = '--', c = 'k', lw = 1.)\n",
    "\n",
    "    plt.subplot(133)\n",
    "    plt.title('Permanent DST')\n",
    "    plt.imshow(m_perm_dst, aspect = 5, cmap = cmap1)\n",
    "    plt.yticks([], [])\n",
    "\n",
    "    plt.xticks(np.array([0, 240, 480, 720, 960, 1200]),\n",
    "                ['12AM','4AM','8AM','12PM','4PM','8PM'])\n",
    "    if hgrid:\n",
    "        plt.axvline(480, ls = '--', c = 'k', lw = 2.)\n",
    "        plt.axvline(1200, ls = '--', c = 'k', lw = 2.)\n",
    "        plt.axhline(31, ls = '--', c = 'k', lw = 1.)\n",
    "        plt.axhline(59, ls = '--', c = 'k', lw = 1.)\n",
    "        plt.axhline(90, ls = '--', c = 'k', lw = 1.)\n",
    "        plt.axhline(120, ls = '--', c = 'k', lw = 1.)\n",
    "        plt.axhline(151, ls = '--', c = 'k', lw = 1.)\n",
    "        plt.axhline(181, ls = '--', c = 'k', lw = 1.)\n",
    "        plt.axhline(212, ls = '--', c = 'k', lw = 1.)\n",
    "        plt.axhline(243, ls = '--', c = 'k', lw = 1.)\n",
    "        plt.axhline(273, ls = '--', c = 'k', lw = 1.)\n",
    "        plt.axhline(304, ls = '--', c = 'k', lw = 1.)\n",
    "        plt.axhline(334, ls = '--', c = 'k', lw = 1.)\n",
    "\n",
    "    plt.subplots_adjust(wspace = -0.05)\n",
    "    plt.savefig('dst.pdf', bbox_inches = 'tight')\n",
    "    plt.show()"
   ]
  },
  {
   "cell_type": "code",
   "execution_count": 345,
   "id": "402af321-fd4d-4806-a484-521628c27abd",
   "metadata": {},
   "outputs": [
    {
     "data": {
      "image/png": "[encoded data removed]",
      "text/plain": [
       "<Figure size 1800x720 with 3 Axes>"
      ]
     },
     "metadata": {
      "needs_background": "light"
     },
     "output_type": "display_data"
    }
   ],
   "source": [
    "plot_dst(lookup(\"Washington DC\", database()))\n"
   ]
  },
  {
   "cell_type": "code",
   "execution_count": 371,
   "id": "07967f40-d611-4e06-bae4-16732cdff9b9",
   "metadata": {},
   "outputs": [],
   "source": [
    "city = lookup(\"San Francisco\", database())"
   ]
  },
  {
   "cell_type": "code",
   "execution_count": 349,
   "id": "94d2dcc4-e4ed-48d1-9f2d-f27780367d53",
   "metadata": {},
   "outputs": [
    {
     "data": {
      "text/plain": [
       "2022"
      ]
     },
     "execution_count": 349,
     "metadata": {},
     "output_type": "execute_result"
    }
   ],
   "source": [
    "date.today().year"
   ]
  },
  {
   "cell_type": "code",
   "execution_count": 5,
   "id": "9fe34212-4a82-49c5-b598-60328ec6c61b",
   "metadata": {},
   "outputs": [
    {
     "data": {
      "text/plain": [
       "{'dawn': datetime.datetime(2022, 1, 31, 11, 49, 22, 556575, tzinfo=<UTC>),\n",
       " 'sunrise': datetime.datetime(2022, 1, 31, 12, 18, 50, 345789, tzinfo=<UTC>),\n",
       " 'noon': datetime.datetime(2022, 1, 31, 17, 21, 30, tzinfo=<UTC>),\n",
       " 'sunset': datetime.datetime(2022, 1, 31, 22, 24, 49, 537668, tzinfo=<UTC>),\n",
       " 'dusk': datetime.datetime(2022, 1, 31, 22, 54, 18, 528381, tzinfo=<UTC>)}"
      ]
     },
     "execution_count": 5,
     "metadata": {},
     "output_type": "execute_result"
    }
   ],
   "source": [
    "sun(city.observer, date = datetime.date(2022,1,31), tzinfo = 'UTC')"
   ]
  },
  {
   "cell_type": "code",
   "execution_count": 362,
   "id": "8ecf22a6-170b-4143-85dc-44746465d6ac",
   "metadata": {},
   "outputs": [],
   "source": [
    "def datetime_to_unix(timestamp):\n",
    "    return (timestamp - pd.Timestamp('1970-01-01', tz = 'UTC'))/ pd.Timedelta('1s')\n",
    "\n",
    "def daterange_to_unix(drange):\n",
    "    return (drange - pd.Timestamp(\"1970-01-01\", tz = 'UTC')) / pd.Timedelta('1s')\n"
   ]
  },
  {
   "cell_type": "code",
   "execution_count": 380,
   "id": "1cdb93ab-5886-437d-8894-7de9de3c5d59",
   "metadata": {},
   "outputs": [
    {
     "name": "stderr",
     "output_type": "stream",
     "text": [
      "100%|███████████████████████████████████████████████████████████████████| 368/368 [00:08<00:00, 42.15it/s]\n"
     ]
    }
   ],
   "source": [
    "year = '2022'\n",
    "\n",
    "jan1 = pd.to_datetime(date(int(year)-1,12,30), utc = None)\n",
    "dec31 = pd.to_datetime(date(int(year)+1,1,2), utc = None)\n",
    "drange = pd.date_range(jan1, dec31, freq = '60s', tz = city.timezone)[:-1]\n",
    "jan1_idx2_tz = np.argmin(np.abs([drange - pd.Timestamp('01JAN2022', tz = city.timezone)]))\n",
    "dec31_idx2_tz = np.argmin(np.abs([drange - pd.Timestamp('01JAN2023', tz = city.timezone)]))\n",
    "offset = (drange[0].utcoffset().days*86400 + drange[0].utcoffset().seconds)/60. # in minutes\n",
    "\n",
    "# A year plus 2 days on either side to account for any edge cases\n",
    "pre_jan1 = pd.to_datetime(date(int(year)-1,12,30), utc = True)\n",
    "post_dec31 = pd.to_datetime(date(int(year)+1,1,2), utc = True)\n",
    "jan1_idx_unix = np.argmin(np.abs([a - datetime_to_unix(pd.Timestamp('01JAN2022', tz = city.timezone))]))\n",
    "dec31_idx_unix = np.argmin(np.abs([a - datetime_to_unix(pd.Timestamp('01JAN2023', tz = city.timezone))]))\n",
    "extended_drange = pd.date_range(pre_jan1, post_dec31, freq = '1D', tz = 'UTC')\n",
    "\n",
    "# A mapping from unix seconds to time of day\n",
    "# This could probably (definitely) be cleaned up some...\n",
    "dst_minutes = np.array(drange.hour*60+drange.minute)\n",
    "extended_drange_s = pd.date_range(pre_jan1, post_dec31, freq = '60s', tz = 'UTC')[:-1]\n",
    "ext_dst_minutes = np.array((extended_drange_s).hour*60+(extended_drange_s).minute)\n",
    "transformed = (2*ext_dst_minutes - dst_minutes)%1440\n",
    "\n",
    "M = np.zeros((3, (len(extended_drange)-1) * 1440)) # Unraveled, we'll ravel it later\n",
    "a = daterange_to_unix(pd.date_range(pre_jan1, post_dec31, freq = '60S', tz = 'UTC'))[:-1]\n",
    "\n",
    "for d in tqdm(extended_drange[:-1]):\n",
    "    s = sun(city.observer, date = d, tzinfo = city.timezone)\n",
    "    \n",
    "    beginning = np.argmin(np.abs(daterange_to_unix(drange) - datetime_to_unix(d))) - int(offset)\n",
    "    end = np.argmin(np.abs(daterange_to_unix(drange) - datetime_to_unix(d) - 86400)) - int(offset)\n",
    "    daylight_local = np.where(np.logical_and(drange[beginning:end]>s['sunrise'], drange[beginning:end]<s['sunset']))\n",
    "    M[0][np.arange(beginning, end, 1)[np.argsort(transformed[beginning:end])][daylight_local[0]]] = 1.\n",
    "    \n",
    "    sunrise = datetime_to_unix(s['sunrise'])\n",
    "    sunset = datetime_to_unix(s['sunset'])\n",
    "\n",
    "    daylight_unix = np.where(np.logical_and(a>sunrise, a<sunset))\n",
    "    M[1, daylight_unix] = 1.\n",
    "\n",
    "M = np.array([M[0][jan1_idx2_tz:dec31_idx2_tz].reshape(365, 1440),\n",
    "              M[1][jan1_idx_unix:dec31_idx_unix].reshape(365, 1440),\n",
    "             M[1][jan1_idx_unix-60:dec31_idx_unix-60].reshape(365, 1440)])\n",
    "          \n"
   ]
  },
  {
   "cell_type": "code",
   "execution_count": 376,
   "id": "824a8c00-53b3-4bb6-aa9e-b0034bb226b5",
   "metadata": {},
   "outputs": [],
   "source": [
    "\n",
    "M = np.array([M[0][jan1_idx2_tz:dec31_idx2_tz].reshape(365, 1440),\n",
    "              M[1][jan1_idx_unix:dec31_idx_unix].reshape(365, 1440),\n",
    "             M[2][jan1_idx_unix:dec31_idx_unix].reshape(365, 1440)])\n",
    "          "
   ]
  },
  {
   "cell_type": "code",
   "execution_count": null,
   "id": "72e11da8-1cec-4c04-a0e5-0aefe575989f",
   "metadata": {},
   "outputs": [],
   "source": [
    "len(M[2])"
   ]
  },
  {
   "cell_type": "code",
   "execution_count": 307,
   "id": "991f8fe5-1180-462d-981f-b0b3557f708f",
   "metadata": {},
   "outputs": [
    {
     "data": {
      "text/plain": [
       "datetime.datetime(2022, 1, 8, 7, 31, 42, 780050, tzinfo=<DstTzInfo 'US/Eastern' EST-1 day, 19:00:00 STD>)"
      ]
     },
     "execution_count": 307,
     "metadata": {},
     "output_type": "execute_result"
    }
   ],
   "source": [
    "s['sunrise']"
   ]
  },
  {
   "cell_type": "code",
   "execution_count": 303,
   "id": "25f0fd9b-8ce8-490f-9e2a-2e8e3b8a66cf",
   "metadata": {},
   "outputs": [
    {
     "data": {
      "text/plain": [
       "1641600000.0"
      ]
     },
     "execution_count": 303,
     "metadata": {},
     "output_type": "execute_result"
    }
   ],
   "source": [
    "datetime_to_unix(d)"
   ]
  },
  {
   "cell_type": "code",
   "execution_count": 304,
   "id": "342bd827-454c-4f35-a3a8-57663fdfbc2e",
   "metadata": {},
   "outputs": [
    {
     "data": {
      "text/plain": [
       "Float64Index([1640840400.0, 1640840460.0, 1640840520.0, 1640840580.0,\n",
       "              1640840640.0, 1640840700.0, 1640840760.0, 1640840820.0,\n",
       "              1640840880.0, 1640840940.0,\n",
       "              ...\n",
       "              1672635000.0, 1672635060.0, 1672635120.0, 1672635180.0,\n",
       "              1672635240.0, 1672635300.0, 1672635360.0, 1672635420.0,\n",
       "              1672635480.0, 1672635540.0],\n",
       "             dtype='float64', length=529920)"
      ]
     },
     "execution_count": 304,
     "metadata": {},
     "output_type": "execute_result"
    }
   ],
   "source": [
    "daterange_to_unix(drange)"
   ]
  },
  {
   "cell_type": "code",
   "execution_count": 318,
   "id": "35ca84c5-18ab-4930-a3cb-2eb811208ec1",
   "metadata": {},
   "outputs": [
    {
     "data": {
      "text/plain": [
       "-18000"
      ]
     },
     "execution_count": 318,
     "metadata": {},
     "output_type": "execute_result"
    }
   ],
   "source": [
    "drange[beginning].utcoffset().days*86400 + drange[beginning].utcoffset().seconds"
   ]
  },
  {
   "cell_type": "code",
   "execution_count": 314,
   "id": "fe0dbd5a-0859-4be2-86cf-cecb9ed372d3",
   "metadata": {},
   "outputs": [
    {
     "data": {
      "text/plain": [
       "18000"
      ]
     },
     "execution_count": 314,
     "metadata": {},
     "output_type": "execute_result"
    }
   ],
   "source": [
    "86400-68400"
   ]
  },
  {
   "cell_type": "code",
   "execution_count": 342,
   "id": "e14a36fe-a258-4753-a6f5-61d252297add",
   "metadata": {},
   "outputs": [
    {
     "ename": "AttributeError",
     "evalue": "'datetime.date' object has no attribute 'tm_yday'",
     "output_type": "error",
     "traceback": [
      "\u001b[0;31m---------------------------------------------------------------------------\u001b[0m",
      "\u001b[0;31mAttributeError\u001b[0m                            Traceback (most recent call last)",
      "Input \u001b[0;32mIn [343]\u001b[0m, in \u001b[0;36m<cell line: 1>\u001b[0;34m()\u001b[0m\n\u001b[0;32m----> 1\u001b[0m \u001b[43mdate\u001b[49m\u001b[43m(\u001b[49m\u001b[38;5;241;43m2022\u001b[39;49m\u001b[43m,\u001b[49m\u001b[43m \u001b[49m\u001b[38;5;241;43m4\u001b[39;49m\u001b[43m,\u001b[49m\u001b[43m \u001b[49m\u001b[38;5;241;43m1\u001b[39;49m\u001b[43m)\u001b[49m\u001b[38;5;241;43m.\u001b[39;49m\u001b[43mtm_yday\u001b[49m\n",
      "\u001b[0;31mAttributeError\u001b[0m: 'datetime.date' object has no attribute 'tm_yday'"
     ]
    }
   ],
   "source": [
    "date(2022, 4, 1).timetuple().tm_yday"
   ]
  },
  {
   "cell_type": "code",
   "execution_count": 306,
   "id": "8bc756ff-d466-45db-804f-ffe5597b4ec3",
   "metadata": {},
   "outputs": [
    {
     "data": {
      "text/plain": [
       "Timestamp('2022-01-08 19:00:00-0500', tz='US/Eastern', freq='60S')"
      ]
     },
     "execution_count": 306,
     "metadata": {},
     "output_type": "execute_result"
    }
   ],
   "source": [
    "drange[end]"
   ]
  },
  {
   "cell_type": "code",
   "execution_count": 291,
   "id": "0c39051f-0557-4940-a35b-189b37137bda",
   "metadata": {},
   "outputs": [
    {
     "data": {
      "text/plain": [
       "Timestamp('2022-01-07 19:00:00+0000', tz='UTC', freq='60S')"
      ]
     },
     "execution_count": 291,
     "metadata": {},
     "output_type": "execute_result"
    }
   ],
   "source": [
    "extended_drange_s[beginning]"
   ]
  },
  {
   "cell_type": "code",
   "execution_count": 292,
   "id": "02c7145b-989f-443e-a745-39c3fa2fba44",
   "metadata": {},
   "outputs": [
    {
     "data": {
      "text/plain": [
       "Timestamp('2022-01-08 19:00:00+0000', tz='UTC', freq='60S')"
      ]
     },
     "execution_count": 292,
     "metadata": {},
     "output_type": "execute_result"
    }
   ],
   "source": [
    "extended_drange_s[end]"
   ]
  },
  {
   "cell_type": "code",
   "execution_count": 255,
   "id": "968838a8-b482-4887-b17b-10672c658eba",
   "metadata": {},
   "outputs": [
    {
     "data": {
      "text/plain": [
       "<matplotlib.image.AxesImage at 0x14a22bfd0>"
      ]
     },
     "execution_count": 255,
     "metadata": {},
     "output_type": "execute_result"
    },
    {
     "data": {
      "image/png": "[encoded data removed]",
      "text/plain": [
       "<Figure size 720x360 with 1 Axes>"
      ]
     },
     "metadata": {
      "needs_background": "light"
     },
     "output_type": "display_data"
    }
   ],
   "source": [
    "fig = plt.figure(figsize =[10,5])\n",
    "dst_minutes = np.array((drange).hour*60+(drange).minute)\n",
    "extended_drange = pd.date_range(pre_jan1, post_dec31, freq = '60s', tz = 'UTC')[:-1]\n",
    "ext_dst_minutes = np.array((extended_drange).hour*60+(extended_drange).minute)\n",
    "transform = (dst_minutes.reshape(368, 1440) - ext_dst_minutes.reshape(368, 1440))\n",
    "transformed = (dst_minutes.reshape(368, 1440) - 2*transform)%1440\n",
    "plt.imshow(transformed, vmin = 0, vmax = 1440, cmap = 'viridis')\n",
    "# Limit the transformation"
   ]
  },
  {
   "cell_type": "code",
   "execution_count": 241,
   "id": "0c5c26e3-b655-48a0-b9c4-741647e46f22",
   "metadata": {},
   "outputs": [
    {
     "data": {
      "text/plain": [
       "1499"
      ]
     },
     "execution_count": 241,
     "metadata": {},
     "output_type": "execute_result"
    }
   ],
   "source": [
    "np.max(transformed)"
   ]
  },
  {
   "cell_type": "code",
   "execution_count": 164,
   "id": "169ee11c-804b-4015-9bee-4af62a53fed6",
   "metadata": {},
   "outputs": [
    {
     "data": {
      "text/plain": [
       "array([250, 251, 252, 253, 254, 255, 256, 257, 258, 259, 260, 261, 262,\n",
       "       263, 264, 265, 266, 267, 268, 269, 270, 271, 272, 273, 274, 275,\n",
       "       276, 277, 278, 279, 280, 281, 282, 283, 284, 285, 286, 287, 288,\n",
       "       289, 290, 291, 292, 293, 294, 295, 296, 297, 298, 299])"
      ]
     },
     "execution_count": 164,
     "metadata": {},
     "output_type": "execute_result"
    }
   ],
   "source": [
    "np.argsort(dst_minutes[beginning:end])[-50:]"
   ]
  },
  {
   "cell_type": "code",
   "execution_count": 171,
   "id": "d307e24f-4b90-4efb-bb32-84d29efca2e2",
   "metadata": {},
   "outputs": [],
   "source": [
    "M[0][(np.arange(beginning, end, 1))] = 1"
   ]
  },
  {
   "cell_type": "code",
   "execution_count": 142,
   "id": "df5a7e4c-1a97-43aa-9fd0-7a65e994f5f8",
   "metadata": {},
   "outputs": [
    {
     "data": {
      "text/plain": [
       "array([5760, 5761, 5762, ..., 5757, 5758, 5759])"
      ]
     },
     "execution_count": 142,
     "metadata": {},
     "output_type": "execute_result"
    }
   ],
   "source": [
    "np.arange(beginning, end, 1)[np.argsort(dst_minutes[beginning:end])]"
   ]
  },
  {
   "cell_type": "code",
   "execution_count": 143,
   "id": "6f379d8d-4b59-4ff2-aa22-012ae26f7058",
   "metadata": {},
   "outputs": [
    {
     "data": {
      "text/plain": [
       "array([5460, 5461, 5462, ..., 6897, 6898, 6899])"
      ]
     },
     "execution_count": 143,
     "metadata": {},
     "output_type": "execute_result"
    }
   ],
   "source": [
    "np.arange(beginning, end, 1)"
   ]
  },
  {
   "cell_type": "code",
   "execution_count": 17,
   "id": "dd561409-365e-4089-8074-ce518bd276fa",
   "metadata": {},
   "outputs": [],
   "source": [
    "midnight_jan1_idx = np.argmin(np.abs([a - datetime_to_unix(pd.Timestamp('01JAN2022', tz = city.timezone))]))\n",
    "midnight_dec31_idx = np.argmin(np.abs([a - datetime_to_unix(pd.Timestamp('01JAN2023', tz = city.timezone))]))"
   ]
  },
  {
   "cell_type": "code",
   "execution_count": 22,
   "id": "5854c0cc-81d8-43fd-9ffb-13843df82178",
   "metadata": {},
   "outputs": [
    {
     "data": {
      "text/plain": [
       "0.0"
      ]
     },
     "execution_count": 22,
     "metadata": {},
     "output_type": "execute_result"
    }
   ],
   "source": [
    "np.sum(a[midnight_jan1_idx:midnight_dec31_idx] - unix_drange)"
   ]
  },
  {
   "cell_type": "code",
   "execution_count": 611,
   "id": "6a485f90-0bd4-4f8e-889c-25176a83766e",
   "metadata": {},
   "outputs": [
    {
     "data": {
      "text/plain": [
       "365.0"
      ]
     },
     "execution_count": 611,
     "metadata": {},
     "output_type": "execute_result"
    }
   ],
   "source": [
    "M[1][midnight_jan1_idx:midnight_dec31_idx].shape[0]/1440"
   ]
  },
  {
   "cell_type": "code",
   "execution_count": 381,
   "id": "2988acec-3904-42f7-abe0-c696f02cea06",
   "metadata": {},
   "outputs": [
    {
     "data": {
      "image/png": "[encoded data removed]",
      "text/plain": [
       "<Figure size 1800x720 with 3 Axes>"
      ]
     },
     "metadata": {
      "needs_background": "light"
     },
     "output_type": "display_data"
    }
   ],
   "source": [
    "hgrid = True\n",
    "plt.rcParams['font.size'] = 14\n",
    "fig = plt.figure(figsize = [25,10])\n",
    "plt.suptitle(city.name)\n",
    "\n",
    "plt.subplot(131)\n",
    "plt.imshow(M[0], aspect = 5, cmap = cmap1)\n",
    "plt.title('Standard DST')\n",
    "plt.xticks(np.array([0, 240, 480, 720, 960, 1200]),\n",
    "            ['12AM','4AM','8AM','12PM','4PM','8PM'])\n",
    "plt.yticks(np.array([0, 31, 59, 90, 120, 151, 181, 212, 243, 273, 304, 334]),\n",
    "            ['January','February','March','April','May','June','July','August','September','October','November','December'])\n",
    "plt.axvline(480, ls = '--', c = 'k', lw = 2.)\n",
    "plt.axvline(1200, ls = '--', c = 'k', lw = 2.)\n",
    "\n",
    "if hgrid:\n",
    "    plt.axhline(31, ls = '--', c = 'k', lw = 1.)\n",
    "    plt.axhline(59, ls = '--', c = 'k', lw = 1.)\n",
    "    plt.axhline(90, ls = '--', c = 'k', lw = 1.)\n",
    "    plt.axhline(120, ls = '--', c = 'k', lw = 1.)\n",
    "    plt.axhline(151, ls = '--', c = 'k', lw = 1.)\n",
    "    plt.axhline(181, ls = '--', c = 'k', lw = 1.)\n",
    "    plt.axhline(212, ls = '--', c = 'k', lw = 1.)\n",
    "    plt.axhline(243, ls = '--', c = 'k', lw = 1.)\n",
    "    plt.axhline(273, ls = '--', c = 'k', lw = 1.)\n",
    "    plt.axhline(304, ls = '--', c = 'k', lw = 1.)\n",
    "    plt.axhline(334, ls = '--', c = 'k', lw = 1.)\n",
    "\n",
    "plt.subplot(132)\n",
    "plt.title('No DST')\n",
    "plt.imshow(M[1], aspect = 5, cmap = cmap1)\n",
    "plt.xticks(np.array([0, 240, 480, 720, 960, 1200]),\n",
    "            ['12AM','4AM','8AM','12PM','4PM','8PM'])\n",
    "plt.axvline(480, ls = '--', c = 'k', lw = 2.)\n",
    "plt.axvline(1200, ls = '--', c = 'k', lw = 2.)\n",
    "plt.yticks([], [])\n",
    "if hgrid:\n",
    "    plt.axhline(31, ls = '--', c = 'k', lw = 1.)\n",
    "    plt.axhline(59, ls = '--', c = 'k', lw = 1.)\n",
    "    plt.axhline(90, ls = '--', c = 'k', lw = 1.)\n",
    "    plt.axhline(120, ls = '--', c = 'k', lw = 1.)\n",
    "    plt.axhline(151, ls = '--', c = 'k', lw = 1.)\n",
    "    plt.axhline(181, ls = '--', c = 'k', lw = 1.)\n",
    "    plt.axhline(212, ls = '--', c = 'k', lw = 1.)\n",
    "    plt.axhline(243, ls = '--', c = 'k', lw = 1.)\n",
    "    plt.axhline(273, ls = '--', c = 'k', lw = 1.)\n",
    "    plt.axhline(304, ls = '--', c = 'k', lw = 1.)\n",
    "    plt.axhline(334, ls = '--', c = 'k', lw = 1.)\n",
    "\n",
    "plt.subplot(133)\n",
    "plt.title('Permanent DST')\n",
    "plt.imshow(M[2], aspect = 5, cmap = cmap1)\n",
    "plt.yticks([], [])\n",
    "\n",
    "plt.xticks(np.array([0, 240, 480, 720, 960, 1200]),\n",
    "            ['12AM','4AM','8AM','12PM','4PM','8PM'])\n",
    "if hgrid:\n",
    "    plt.axvline(480, ls = '--', c = 'k', lw = 2.)\n",
    "    plt.axvline(1200, ls = '--', c = 'k', lw = 2.)\n",
    "    plt.axhline(31, ls = '--', c = 'k', lw = 1.)\n",
    "    plt.axhline(59, ls = '--', c = 'k', lw = 1.)\n",
    "    plt.axhline(90, ls = '--', c = 'k', lw = 1.)\n",
    "    plt.axhline(120, ls = '--', c = 'k', lw = 1.)\n",
    "    plt.axhline(151, ls = '--', c = 'k', lw = 1.)\n",
    "    plt.axhline(181, ls = '--', c = 'k', lw = 1.)\n",
    "    plt.axhline(212, ls = '--', c = 'k', lw = 1.)\n",
    "    plt.axhline(243, ls = '--', c = 'k', lw = 1.)\n",
    "    plt.axhline(273, ls = '--', c = 'k', lw = 1.)\n",
    "    plt.axhline(304, ls = '--', c = 'k', lw = 1.)\n",
    "    plt.axhline(334, ls = '--', c = 'k', lw = 1.)\n",
    "\n",
    "plt.subplots_adjust(wspace = -0.05)\n",
    "plt.show()"
   ]
  },
  {
   "cell_type": "code",
   "execution_count": 350,
   "id": "85a1f2e0-715a-45b6-8683-fdb1d2b8ab0b",
   "metadata": {},
   "outputs": [],
   "source": [
    "def dst_matrices(city, year = '2022'):\n",
    "    \"\"\"\n",
    "    A function that finds the sunset and rise over the course of a year\n",
    "    at a particular location.\n",
    "\n",
    "    Inputs:\n",
    "    - city: an astral LocationInfo object defining the city location, timezone, etc.\n",
    "    - year: the year of interest, as a string\n",
    "\n",
    "    Outputs:\n",
    "    - An array M containing the data. The values of M are 0 if the sun has set,\n",
    "      and 1 if the sun has risen.\n",
    "      Dimensions of M are: 3x365x1440\n",
    "        - 3 scenarios (standard DST, no DST, permanent DST)\n",
    "        - 365 days per year\n",
    "        - 1440 minutes per day\n",
    "\n",
    "    Notes:\n",
    "    - Each lat/lon location on Earth will have its own unique M\n",
    "    - Time of day is given in the local time zone\n",
    "    \"\"\"\n",
    "\n",
    "    jan1 = pd.to_datetime(date(int(year)-1,12,30), utc = None)\n",
    "    dec31 = pd.to_datetime(date(int(year)+1,1,2), utc = None)\n",
    "    drange = pd.date_range(jan1, dec31, freq = '60s', tz = city.timezone)[:-1]\n",
    "    jan1_idx2_tz = np.argmin(np.abs([drange - pd.Timestamp('01JAN2022', tz = city.timezone)]))\n",
    "    dec31_idx2_tz = np.argmin(np.abs([drange - pd.Timestamp('01JAN2023', tz = city.timezone)]))\n",
    "    offset = (drange[0].utcoffset().days*86400 + drange[0].utcoffset().seconds)/60. # in minutes\n",
    "\n",
    "    # A year plus 2 days on either side to account for any edge cases\n",
    "    pre_jan1 = pd.to_datetime(date(int(year)-1,12,30), utc = True)\n",
    "    post_dec31 = pd.to_datetime(date(int(year)+1,1,2), utc = True)\n",
    "    extended_drange = pd.date_range(pre_jan1, post_dec31, freq = '1D', tz = 'UTC')\n",
    "    extended_drange_s = pd.date_range(pre_jan1, post_dec31, freq = '60s', tz = 'UTC')[:-1]\n",
    "    a = daterange_to_unix(extended_drange_s)[:-1]\n",
    "\n",
    "    jan1_idx_unix = np.argmin(np.abs([a - datetime_to_unix(pd.Timestamp('01JAN2022', tz = city.timezone))]))\n",
    "    dec31_idx_unix = np.argmin(np.abs([a - datetime_to_unix(pd.Timestamp('01JAN2023', tz = city.timezone))]))\n",
    "\n",
    "    # A mapping from unix seconds to time of day\n",
    "    # This could probably (definitely) be cleaned up some...\n",
    "    dst_minutes = np.array(drange.hour*60+drange.minute)\n",
    "    ext_dst_minutes = np.array((extended_drange_s).hour*60+(extended_drange_s).minute)\n",
    "    transformed = (2*ext_dst_minutes - dst_minutes)%1440\n",
    "\n",
    "    M = np.zeros((3, (len(extended_drange)-1) * 1440)) # Unraveled, we'll ravel it later\n",
    "    for d in tqdm(extended_drange):\n",
    "        s = sun(city.observer, date = d, tzinfo = city.timezone)\n",
    "\n",
    "        beginning = np.argmin(np.abs(daterange_to_unix(drange) - datetime_to_unix(d))) - int(offset)\n",
    "        end = np.argmin(np.abs(daterange_to_unix(drange) - datetime_to_unix(d) - 86400)) - int(offset)\n",
    "        daylight_local = np.where(np.logical_and(drange[beginning:end]>s['sunrise'], drange[beginning:end]<s['sunset']))\n",
    "        M[0][np.arange(beginning, end, 1)[np.argsort(transformed[beginning:end])][daylight_local[0]]] = 1.\n",
    "\n",
    "        sunrise = datetime_to_unix(s['sunrise'])\n",
    "        sunset = datetime_to_unix(s['sunset'])\n",
    "\n",
    "        daylight_unix = np.where(np.logical_and(a>sunrise, a<sunset))\n",
    "        M[1, daylight_unix] = 1.\n",
    "        M[2, daylight_unix[0]+60] = 1.\n",
    "\n",
    "    M = np.array([M[0][jan1_idx2_tz:dec31_idx2_tz].reshape(365, 1440),\n",
    "                  M[1][jan1_idx_unix:dec31_idx_unix].reshape(365, 1440),\n",
    "                 M[2][jan1_idx_unix:dec31_idx_unix].reshape(365, 1440)])\n",
    "    return M\n"
   ]
  },
  {
   "cell_type": "code",
   "execution_count": 353,
   "id": "c4f03821-a928-46b9-ae09-3c167fb2727c",
   "metadata": {},
   "outputs": [
    {
     "name": "stdout",
     "output_type": "stream",
     "text": [
      "  0%|                                         | 1/369 [00:10<1:05:49, 10.73s/it]^C\n",
      "\n"
     ]
    }
   ],
   "source": [
    "!python ~/Projects/sandbox/daylight-savings-time/dst.py 'Washington DC'"
   ]
  },
  {
   "cell_type": "code",
   "execution_count": 356,
   "id": "fe419fe4-3848-4ad4-b2b9-86712516233b",
   "metadata": {},
   "outputs": [
    {
     "ename": "AttributeError",
     "evalue": "module 'datetime' has no attribute 'utcfromtimestamp'",
     "output_type": "error",
     "traceback": [
      "\u001b[0;31m---------------------------------------------------------------------------\u001b[0m",
      "\u001b[0;31mAttributeError\u001b[0m                            Traceback (most recent call last)",
      "Input \u001b[0;32mIn [356]\u001b[0m, in \u001b[0;36m<cell line: 1>\u001b[0;34m()\u001b[0m\n\u001b[0;32m----> 1\u001b[0m \u001b[43mdst_matrices\u001b[49m\u001b[43m(\u001b[49m\u001b[43mcity\u001b[49m\u001b[43m)\u001b[49m\n",
      "Input \u001b[0;32mIn [355]\u001b[0m, in \u001b[0;36mdst_matrices\u001b[0;34m(city, year)\u001b[0m\n\u001b[1;32m     40\u001b[0m extended_drange \u001b[38;5;241m=\u001b[39m pd\u001b[38;5;241m.\u001b[39mdate_range(pre_jan1, post_dec31, freq \u001b[38;5;241m=\u001b[39m \u001b[38;5;124m'\u001b[39m\u001b[38;5;124m1D\u001b[39m\u001b[38;5;124m'\u001b[39m, tz \u001b[38;5;241m=\u001b[39m \u001b[38;5;124m'\u001b[39m\u001b[38;5;124mUTC\u001b[39m\u001b[38;5;124m'\u001b[39m)\n\u001b[1;32m     41\u001b[0m extended_drange_s \u001b[38;5;241m=\u001b[39m pd\u001b[38;5;241m.\u001b[39mdate_range(pre_jan1, post_dec31, freq \u001b[38;5;241m=\u001b[39m \u001b[38;5;124m'\u001b[39m\u001b[38;5;124m60s\u001b[39m\u001b[38;5;124m'\u001b[39m, tz \u001b[38;5;241m=\u001b[39m \u001b[38;5;124m'\u001b[39m\u001b[38;5;124mUTC\u001b[39m\u001b[38;5;124m'\u001b[39m)[:\u001b[38;5;241m-\u001b[39m\u001b[38;5;241m1\u001b[39m]\n\u001b[0;32m---> 42\u001b[0m a \u001b[38;5;241m=\u001b[39m \u001b[43mdaterange_to_unix\u001b[49m\u001b[43m(\u001b[49m\u001b[43mextended_drange_s\u001b[49m\u001b[43m)\u001b[49m[:\u001b[38;5;241m-\u001b[39m\u001b[38;5;241m1\u001b[39m]\n\u001b[1;32m     44\u001b[0m jan1_idx_unix \u001b[38;5;241m=\u001b[39m np\u001b[38;5;241m.\u001b[39margmin(np\u001b[38;5;241m.\u001b[39mabs([a \u001b[38;5;241m-\u001b[39m datetime_to_unix(pd\u001b[38;5;241m.\u001b[39mTimestamp(\u001b[38;5;124m'\u001b[39m\u001b[38;5;124m01JAN2022\u001b[39m\u001b[38;5;124m'\u001b[39m, tz \u001b[38;5;241m=\u001b[39m city\u001b[38;5;241m.\u001b[39mtimezone))]))\n\u001b[1;32m     45\u001b[0m dec31_idx_unix \u001b[38;5;241m=\u001b[39m np\u001b[38;5;241m.\u001b[39margmin(np\u001b[38;5;241m.\u001b[39mabs([a \u001b[38;5;241m-\u001b[39m datetime_to_unix(pd\u001b[38;5;241m.\u001b[39mTimestamp(\u001b[38;5;124m'\u001b[39m\u001b[38;5;124m01JAN2023\u001b[39m\u001b[38;5;124m'\u001b[39m, tz \u001b[38;5;241m=\u001b[39m city\u001b[38;5;241m.\u001b[39mtimezone))]))\n",
      "Input \u001b[0;32mIn [355]\u001b[0m, in \u001b[0;36mdaterange_to_unix\u001b[0;34m(drange)\u001b[0m\n\u001b[1;32m      5\u001b[0m \u001b[38;5;28;01mdef\u001b[39;00m \u001b[38;5;21mdaterange_to_unix\u001b[39m(drange):\n\u001b[0;32m----> 6\u001b[0m     \u001b[38;5;28;01mreturn\u001b[39;00m np\u001b[38;5;241m.\u001b[39marray([datetime_to_unix(x) \u001b[38;5;28;01mfor\u001b[39;00m x \u001b[38;5;129;01min\u001b[39;00m drange])\n",
      "Input \u001b[0;32mIn [355]\u001b[0m, in \u001b[0;36m<listcomp>\u001b[0;34m(.0)\u001b[0m\n\u001b[1;32m      5\u001b[0m \u001b[38;5;28;01mdef\u001b[39;00m \u001b[38;5;21mdaterange_to_unix\u001b[39m(drange):\n\u001b[0;32m----> 6\u001b[0m     \u001b[38;5;28;01mreturn\u001b[39;00m np\u001b[38;5;241m.\u001b[39marray([\u001b[43mdatetime_to_unix\u001b[49m\u001b[43m(\u001b[49m\u001b[43mx\u001b[49m\u001b[43m)\u001b[49m \u001b[38;5;28;01mfor\u001b[39;00m x \u001b[38;5;129;01min\u001b[39;00m drange])\n",
      "Input \u001b[0;32mIn [355]\u001b[0m, in \u001b[0;36mdatetime_to_unix\u001b[0;34m(dtime)\u001b[0m\n\u001b[1;32m      1\u001b[0m \u001b[38;5;28;01mdef\u001b[39;00m \u001b[38;5;21mdatetime_to_unix\u001b[39m(dtime):\n\u001b[1;32m      2\u001b[0m     timestamp \u001b[38;5;241m=\u001b[39m calendar\u001b[38;5;241m.\u001b[39mtimegm(dtime\u001b[38;5;241m.\u001b[39mtimetuple())\n\u001b[0;32m----> 3\u001b[0m     \u001b[38;5;28;01mreturn\u001b[39;00m time\u001b[38;5;241m.\u001b[39mmktime(\u001b[43mdatetime\u001b[49m\u001b[38;5;241;43m.\u001b[39;49m\u001b[43mutcfromtimestamp\u001b[49m(timestamp)\u001b[38;5;241m.\u001b[39mtimetuple())\n",
      "\u001b[0;31mAttributeError\u001b[0m: module 'datetime' has no attribute 'utcfromtimestamp'"
     ]
    }
   ],
   "source": [
    "dst_matrices(city)"
   ]
  },
  {
   "cell_type": "code",
   "execution_count": 355,
   "id": "9892b019-719c-41a0-a4ac-7bbbe7b58158",
   "metadata": {},
   "outputs": [],
   "source": [
    "def datetime_to_unix(dtime):\n",
    "    timestamp = calendar.timegm(dtime.timetuple())\n",
    "    return time.mktime(datetime.utcfromtimestamp(timestamp).timetuple())\n",
    "\n",
    "def daterange_to_unix(drange):\n",
    "    return np.array([datetime_to_unix(x) for x in drange])\n",
    "\n",
    "def dst_matrices(city, year = '2022'):\n",
    "    \"\"\"\n",
    "    A function that finds the sunset and rise over the course of a year\n",
    "    at a particular location.\n",
    "\n",
    "    Inputs:\n",
    "    - city: an astral LocationInfo object defining the city location, timezone, etc.\n",
    "    - year: the year of interest, as a string\n",
    "\n",
    "    Outputs:\n",
    "    - An array M containing the data. The values of M are 0 if the sun has set,\n",
    "      and 1 if the sun has risen.\n",
    "      Dimensions of M are: 3x365x1440\n",
    "        - 3 scenarios (standard DST, no DST, permanent DST)\n",
    "        - 365 days per year\n",
    "        - 1440 minutes per day\n",
    "\n",
    "    Notes:\n",
    "    - Each lat/lon location on Earth will have its own unique M\n",
    "    - Time of day is given in the local time zone\n",
    "    \"\"\"\n",
    "\n",
    "    jan1 = pd.to_datetime(date(int(year)-1,12,30), utc = None)\n",
    "    dec31 = pd.to_datetime(date(int(year)+1,1,2), utc = None)\n",
    "    drange = pd.date_range(jan1, dec31, freq = '60s', tz = city.timezone)[:-1]\n",
    "    jan1_idx2_tz = np.argmin(np.abs([drange - pd.Timestamp('01JAN2022', tz = city.timezone)]))\n",
    "    dec31_idx2_tz = np.argmin(np.abs([drange - pd.Timestamp('01JAN2023', tz = city.timezone)]))\n",
    "    offset = (drange[0].utcoffset().days*86400 + drange[0].utcoffset().seconds)/60. # in minutes\n",
    "\n",
    "    # A year plus 2 days on either side to account for any edge cases\n",
    "    pre_jan1 = pd.to_datetime(date(int(year)-1,12,30), utc = True)\n",
    "    post_dec31 = pd.to_datetime(date(int(year)+1,1,2), utc = True)\n",
    "    extended_drange = pd.date_range(pre_jan1, post_dec31, freq = '1D', tz = 'UTC')\n",
    "    extended_drange_s = pd.date_range(pre_jan1, post_dec31, freq = '60s', tz = 'UTC')[:-1]\n",
    "    a = daterange_to_unix(extended_drange_s)[:-1]\n",
    "\n",
    "    jan1_idx_unix = np.argmin(np.abs([a - datetime_to_unix(pd.Timestamp('01JAN2022', tz = city.timezone))]))\n",
    "    dec31_idx_unix = np.argmin(np.abs([a - datetime_to_unix(pd.Timestamp('01JAN2023', tz = city.timezone))]))\n",
    "\n",
    "    # A mapping from unix seconds to time of day\n",
    "    # This could probably (definitely) be cleaned up some...\n",
    "    dst_minutes = np.array(drange.hour*60+drange.minute)\n",
    "    ext_dst_minutes = np.array((extended_drange_s).hour*60+(extended_drange_s).minute)\n",
    "    transformed = (2*ext_dst_minutes - dst_minutes)%1440\n",
    "\n",
    "    M = np.zeros((3, (len(extended_drange)-1) * 1440)) # Unraveled, we'll ravel it later\n",
    "    for d in tqdm(extended_drange):\n",
    "        s = sun(city.observer, date = d, tzinfo = city.timezone)\n",
    "\n",
    "        beginning = np.argmin(np.abs(daterange_to_unix(drange) - datetime_to_unix(d))) - int(offset)\n",
    "        end = np.argmin(np.abs(daterange_to_unix(drange) - datetime_to_unix(d) - 86400)) - int(offset)\n",
    "        daylight_local = np.where(np.logical_and(drange[beginning:end]>s['sunrise'], drange[beginning:end]<s['sunset']))\n",
    "        M[0][np.arange(beginning, end, 1)[np.argsort(transformed[beginning:end])][daylight_local[0]]] = 1.\n",
    "\n",
    "        sunrise = datetime_to_unix(s['sunrise'])\n",
    "        sunset = datetime_to_unix(s['sunset'])\n",
    "\n",
    "        daylight_unix = np.where(np.logical_and(a>sunrise, a<sunset))\n",
    "        M[1, daylight_unix] = 1.\n",
    "        M[2, daylight_unix[0]+60] = 1.\n",
    "\n",
    "    M = np.array([M[0][jan1_idx2_tz:dec31_idx2_tz].reshape(365, 1440),\n",
    "                  M[1][jan1_idx_unix:dec31_idx_unix].reshape(365, 1440),\n",
    "                 M[2][jan1_idx_unix:dec31_idx_unix].reshape(365, 1440)])\n",
    "    return M\n"
   ]
  },
  {
   "cell_type": "code",
   "execution_count": 359,
   "id": "df7c3e53-0dd5-47f9-959c-347008a822f7",
   "metadata": {},
   "outputs": [
    {
     "ename": "ValueError",
     "evalue": "month must be in 1..12",
     "output_type": "error",
     "traceback": [
      "\u001b[0;31m---------------------------------------------------------------------------\u001b[0m",
      "\u001b[0;31mValueError\u001b[0m                                Traceback (most recent call last)",
      "Input \u001b[0;32mIn [359]\u001b[0m, in \u001b[0;36m<cell line: 1>\u001b[0;34m()\u001b[0m\n\u001b[0;32m----> 1\u001b[0m \u001b[43mdate\u001b[49m\u001b[43m(\u001b[49m\u001b[38;5;241;43m2022\u001b[39;49m\u001b[43m,\u001b[49m\u001b[43m \u001b[49m\u001b[38;5;241;43m0\u001b[39;49m\u001b[43m,\u001b[49m\u001b[43m \u001b[49m\u001b[38;5;241;43m1\u001b[39;49m\u001b[43m)\u001b[49m\u001b[38;5;241m.\u001b[39mtimetuple()\u001b[38;5;241m.\u001b[39mtm_yday\n",
      "\u001b[0;31mValueError\u001b[0m: month must be in 1..12"
     ]
    }
   ],
   "source": [
    "date(2022, 0, 1).timetuple().tm_yday"
   ]
  },
  {
   "cell_type": "code",
   "execution_count": null,
   "id": "1103833e-81c6-4258-9b8b-6efc79f0a5d9",
   "metadata": {},
   "outputs": [],
   "source": []
  }
 ],
 "metadata": {
  "kernelspec": {
   "display_name": "Python 3 (ipykernel)",
   "language": "python",
   "name": "python3"
  },
  "language_info": {
   "codemirror_mode": {
    "name": "ipython",
    "version": 3
   },
   "file_extension": ".py",
   "mimetype": "text/x-python",
   "name": "python",
   "nbconvert_exporter": "python",
   "pygments_lexer": "ipython3",
   "version": "3.8.2"
  }
 },
 "nbformat": 4,
 "nbformat_minor": 5
}
